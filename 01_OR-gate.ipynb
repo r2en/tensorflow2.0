{
 "cells": [
  {
   "cell_type": "code",
   "execution_count": 14,
   "metadata": {},
   "outputs": [],
   "source": [
    "import numpy as np\n",
    "import pandas as pd\n",
    "\n",
    "from IPython.core.interactiveshell import InteractiveShell\n",
    "InteractiveShell.ast_node_interactivity = 'all'\n",
    "\n",
    "%reload_ext autoreload\n",
    "%autoreload 2"
   ]
  },
  {
   "cell_type": "code",
   "execution_count": 15,
   "metadata": {},
   "outputs": [],
   "source": [
    "import tensorflow as tf\n",
    "from tensorflow.keras.layers import Activation, Dense\n",
    "from tensorflow.keras import Sequential\n",
    "from tensorflow.keras.optimizers import SGD"
   ]
  },
  {
   "cell_type": "code",
   "execution_count": 16,
   "metadata": {},
   "outputs": [
    {
     "data": {
      "text/plain": [
       "'2.0.0-dev20190315'"
      ]
     },
     "execution_count": 16,
     "metadata": {},
     "output_type": "execute_result"
    }
   ],
   "source": [
    "tf.__version__"
   ]
  },
  {
   "cell_type": "code",
   "execution_count": 41,
   "metadata": {},
   "outputs": [
    {
     "data": {
      "text/plain": [
       "<tensorflow.python.keras.engine.sequential.Sequential at 0x12c2aa128>"
      ]
     },
     "execution_count": 41,
     "metadata": {},
     "output_type": "execute_result"
    }
   ],
   "source": [
    "model = Sequential([\n",
    "    Dense(input_dim = 2, units=1),\n",
    "    Activation('sigmoid')\n",
    "])\n",
    "model"
   ]
  },
  {
   "cell_type": "code",
   "execution_count": 42,
   "metadata": {},
   "outputs": [],
   "source": [
    "#model.compile(loss='binary_crossentropy', optimizer=SGD(lr=0.1))\n",
    "model.compile(\n",
    "    loss=tf.keras.losses.mean_squared_error,\n",
    "    optimizer=tf.keras.optimizers.Adam()\n",
    ")"
   ]
  },
  {
   "cell_type": "code",
   "execution_count": 43,
   "metadata": {},
   "outputs": [
    {
     "name": "stdout",
     "output_type": "stream",
     "text": [
      "Model: \"sequential_3\"\n",
      "_________________________________________________________________\n",
      "Layer (type)                 Output Shape              Param #   \n",
      "=================================================================\n",
      "dense_3 (Dense)              (None, 1)                 3         \n",
      "_________________________________________________________________\n",
      "activation_3 (Activation)    (None, 1)                 0         \n",
      "=================================================================\n",
      "Total params: 3\n",
      "Trainable params: 3\n",
      "Non-trainable params: 0\n",
      "_________________________________________________________________\n"
     ]
    }
   ],
   "source": [
    "model.summary()"
   ]
  },
  {
   "cell_type": "code",
   "execution_count": 44,
   "metadata": {},
   "outputs": [],
   "source": [
    "X = np.array([[0,0], [0,1], [1,0], [1,1]])\n",
    "Y = np.array([[0], [1], [1], [1]])"
   ]
  },
  {
   "cell_type": "code",
   "execution_count": 45,
   "metadata": {},
   "outputs": [
    {
     "name": "stdout",
     "output_type": "stream",
     "text": [
      "Epoch 1/20\n",
      "4/4 [==============================] - 0s 24ms/sample - loss: 0.2333\n",
      "Epoch 2/20\n",
      "4/4 [==============================] - 0s 3ms/sample - loss: 0.2322\n",
      "Epoch 3/20\n",
      "4/4 [==============================] - 0s 2ms/sample - loss: 0.2312\n",
      "Epoch 4/20\n",
      "4/4 [==============================] - 0s 3ms/sample - loss: 0.2304\n",
      "Epoch 5/20\n",
      "4/4 [==============================] - 0s 4ms/sample - loss: 0.2299\n",
      "Epoch 6/20\n",
      "4/4 [==============================] - 0s 4ms/sample - loss: 0.2289\n",
      "Epoch 7/20\n",
      "4/4 [==============================] - 0s 3ms/sample - loss: 0.2282\n",
      "Epoch 8/20\n",
      "4/4 [==============================] - 0s 2ms/sample - loss: 0.2272\n",
      "Epoch 9/20\n",
      "4/4 [==============================] - 0s 2ms/sample - loss: 0.2263\n",
      "Epoch 10/20\n",
      "4/4 [==============================] - 0s 2ms/sample - loss: 0.2255\n",
      "Epoch 11/20\n",
      "4/4 [==============================] - 0s 2ms/sample - loss: 0.2248\n",
      "Epoch 12/20\n",
      "4/4 [==============================] - 0s 2ms/sample - loss: 0.2242\n",
      "Epoch 13/20\n",
      "4/4 [==============================] - 0s 2ms/sample - loss: 0.2233\n",
      "Epoch 14/20\n",
      "4/4 [==============================] - 0s 3ms/sample - loss: 0.2225\n",
      "Epoch 15/20\n",
      "4/4 [==============================] - 0s 4ms/sample - loss: 0.2220\n",
      "Epoch 16/20\n",
      "4/4 [==============================] - 0s 2ms/sample - loss: 0.2210\n",
      "Epoch 17/20\n",
      "4/4 [==============================] - 0s 3ms/sample - loss: 0.2202\n",
      "Epoch 18/20\n",
      "4/4 [==============================] - 0s 3ms/sample - loss: 0.2197\n",
      "Epoch 19/20\n",
      "4/4 [==============================] - 0s 3ms/sample - loss: 0.2187\n",
      "Epoch 20/20\n",
      "4/4 [==============================] - 0s 2ms/sample - loss: 0.2180\n"
     ]
    },
    {
     "data": {
      "text/plain": [
       "<tensorflow.python.keras.callbacks.History at 0x12c2aa748>"
      ]
     },
     "execution_count": 45,
     "metadata": {},
     "output_type": "execute_result"
    }
   ],
   "source": [
    "model.fit(X, Y, epochs=20, batch_size=1)"
   ]
  },
  {
   "cell_type": "code",
   "execution_count": 46,
   "metadata": {},
   "outputs": [
    {
     "data": {
      "text/plain": [
       "array([[1],\n",
       "       [0],\n",
       "       [1],\n",
       "       [1]], dtype=int32)"
      ]
     },
     "execution_count": 46,
     "metadata": {},
     "output_type": "execute_result"
    }
   ],
   "source": [
    "classes = model.predict_classes(X, batch_size=1)\n",
    "classes"
   ]
  },
  {
   "cell_type": "code",
   "execution_count": 47,
   "metadata": {},
   "outputs": [
    {
     "data": {
      "text/plain": [
       "array([[0.5090347 ],\n",
       "       [0.43933454],\n",
       "       [0.64915544],\n",
       "       [0.58305395]], dtype=float32)"
      ]
     },
     "execution_count": 47,
     "metadata": {},
     "output_type": "execute_result"
    }
   ],
   "source": [
    "prod = model.predict_proba(X, batch_size=1)\n",
    "prod"
   ]
  }
 ],
 "metadata": {
  "kernelspec": {
   "display_name": "Python 3",
   "language": "python",
   "name": "python3"
  },
  "language_info": {
   "codemirror_mode": {
    "name": "ipython",
    "version": 3
   },
   "file_extension": ".py",
   "mimetype": "text/x-python",
   "name": "python",
   "nbconvert_exporter": "python",
   "pygments_lexer": "ipython3",
   "version": "3.6.8"
  }
 },
 "nbformat": 4,
 "nbformat_minor": 2
}
