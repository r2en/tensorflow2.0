{
 "cells": [
  {
   "cell_type": "code",
   "execution_count": 36,
   "metadata": {},
   "outputs": [],
   "source": [
    "import numpy as np\n",
    "import pandas as pd\n",
    "import matplotlib.pyplot as plt\n",
    "import matplotlib\n",
    "%matplotlib inline\n",
    "import seaborn as sns\n",
    "\n",
    "from IPython.core.interactiveshell import InteractiveShell\n",
    "InteractiveShell.ast_node_interactivity = 'all'\n",
    "\n",
    "%reload_ext autoreload\n",
    "%autoreload 2"
   ]
  },
  {
   "cell_type": "code",
   "execution_count": 37,
   "metadata": {},
   "outputs": [],
   "source": [
    "import tensorflow as tf\n",
    "from tensorflow.keras.datasets import mnist\n",
    "from tensorflow.keras.models import Sequential\n",
    "from tensorflow.keras.layers import Activation, Dense, Dropout, BatchNormalization, LeakyReLU, PReLU\n",
    "from tensorflow.keras import Sequential\n",
    "from tensorflow.keras.optimizers import SGD, RMSprop, Adam\n",
    "from tensorflow.keras.callbacks import EarlyStopping, CSVLogger"
   ]
  },
  {
   "cell_type": "code",
   "execution_count": 38,
   "metadata": {},
   "outputs": [
    {
     "data": {
      "text/plain": [
       "'2.0.0-dev20190315'"
      ]
     },
     "execution_count": 38,
     "metadata": {},
     "output_type": "execute_result"
    }
   ],
   "source": [
    "tf.__version__"
   ]
  },
  {
   "cell_type": "code",
   "execution_count": 39,
   "metadata": {},
   "outputs": [],
   "source": [
    "from sklearn import datasets\n",
    "from sklearn import preprocessing\n",
    "from sklearn.model_selection import train_test_split"
   ]
  },
  {
   "cell_type": "code",
   "execution_count": 40,
   "metadata": {},
   "outputs": [
    {
     "data": {
      "text/html": [
       "<div>\n",
       "<style scoped>\n",
       "    .dataframe tbody tr th:only-of-type {\n",
       "        vertical-align: middle;\n",
       "    }\n",
       "\n",
       "    .dataframe tbody tr th {\n",
       "        vertical-align: top;\n",
       "    }\n",
       "\n",
       "    .dataframe thead th {\n",
       "        text-align: right;\n",
       "    }\n",
       "</style>\n",
       "<table border=\"1\" class=\"dataframe\">\n",
       "  <thead>\n",
       "    <tr style=\"text-align: right;\">\n",
       "      <th></th>\n",
       "      <th>sex_1</th>\n",
       "      <th>sex_2</th>\n",
       "      <th>sex_3</th>\n",
       "      <th>sex_-1</th>\n",
       "      <th>report type_1</th>\n",
       "      <th>report type_2</th>\n",
       "      <th>report type_3</th>\n",
       "      <th>report type_-1</th>\n",
       "      <th>qualification_1</th>\n",
       "      <th>qualification_2</th>\n",
       "      <th>...</th>\n",
       "      <th>reason_for_use_-1</th>\n",
       "      <th>no</th>\n",
       "      <th>reports</th>\n",
       "      <th>age</th>\n",
       "      <th>weight</th>\n",
       "      <th>height</th>\n",
       "      <th>divided_dose_frequency</th>\n",
       "      <th>primary_disease</th>\n",
       "      <th>adverse event</th>\n",
       "      <th>dosage</th>\n",
       "    </tr>\n",
       "  </thead>\n",
       "  <tbody>\n",
       "    <tr>\n",
       "      <th>640719</th>\n",
       "      <td>0</td>\n",
       "      <td>1</td>\n",
       "      <td>0</td>\n",
       "      <td>0</td>\n",
       "      <td>0</td>\n",
       "      <td>1</td>\n",
       "      <td>0</td>\n",
       "      <td>0</td>\n",
       "      <td>1</td>\n",
       "      <td>0</td>\n",
       "      <td>...</td>\n",
       "      <td>0</td>\n",
       "      <td>1</td>\n",
       "      <td>2</td>\n",
       "      <td>50.0</td>\n",
       "      <td>50.0</td>\n",
       "      <td>160.0</td>\n",
       "      <td>1.0</td>\n",
       "      <td>1</td>\n",
       "      <td>1</td>\n",
       "      <td>125.0</td>\n",
       "    </tr>\n",
       "    <tr>\n",
       "      <th>640720</th>\n",
       "      <td>0</td>\n",
       "      <td>1</td>\n",
       "      <td>0</td>\n",
       "      <td>0</td>\n",
       "      <td>0</td>\n",
       "      <td>1</td>\n",
       "      <td>0</td>\n",
       "      <td>0</td>\n",
       "      <td>1</td>\n",
       "      <td>0</td>\n",
       "      <td>...</td>\n",
       "      <td>0</td>\n",
       "      <td>1</td>\n",
       "      <td>2</td>\n",
       "      <td>50.0</td>\n",
       "      <td>50.0</td>\n",
       "      <td>160.0</td>\n",
       "      <td>1.0</td>\n",
       "      <td>0</td>\n",
       "      <td>2</td>\n",
       "      <td>125.0</td>\n",
       "    </tr>\n",
       "    <tr>\n",
       "      <th>640721</th>\n",
       "      <td>0</td>\n",
       "      <td>1</td>\n",
       "      <td>0</td>\n",
       "      <td>0</td>\n",
       "      <td>0</td>\n",
       "      <td>1</td>\n",
       "      <td>0</td>\n",
       "      <td>0</td>\n",
       "      <td>1</td>\n",
       "      <td>0</td>\n",
       "      <td>...</td>\n",
       "      <td>0</td>\n",
       "      <td>1</td>\n",
       "      <td>2</td>\n",
       "      <td>50.0</td>\n",
       "      <td>50.0</td>\n",
       "      <td>160.0</td>\n",
       "      <td>1.0</td>\n",
       "      <td>0</td>\n",
       "      <td>3</td>\n",
       "      <td>125.0</td>\n",
       "    </tr>\n",
       "    <tr>\n",
       "      <th>640722</th>\n",
       "      <td>0</td>\n",
       "      <td>1</td>\n",
       "      <td>0</td>\n",
       "      <td>0</td>\n",
       "      <td>0</td>\n",
       "      <td>1</td>\n",
       "      <td>0</td>\n",
       "      <td>0</td>\n",
       "      <td>1</td>\n",
       "      <td>0</td>\n",
       "      <td>...</td>\n",
       "      <td>0</td>\n",
       "      <td>1</td>\n",
       "      <td>2</td>\n",
       "      <td>50.0</td>\n",
       "      <td>50.0</td>\n",
       "      <td>160.0</td>\n",
       "      <td>1.0</td>\n",
       "      <td>0</td>\n",
       "      <td>1</td>\n",
       "      <td>97.5</td>\n",
       "    </tr>\n",
       "    <tr>\n",
       "      <th>640723</th>\n",
       "      <td>0</td>\n",
       "      <td>1</td>\n",
       "      <td>0</td>\n",
       "      <td>0</td>\n",
       "      <td>0</td>\n",
       "      <td>1</td>\n",
       "      <td>0</td>\n",
       "      <td>0</td>\n",
       "      <td>1</td>\n",
       "      <td>0</td>\n",
       "      <td>...</td>\n",
       "      <td>0</td>\n",
       "      <td>1</td>\n",
       "      <td>2</td>\n",
       "      <td>50.0</td>\n",
       "      <td>50.0</td>\n",
       "      <td>160.0</td>\n",
       "      <td>1.0</td>\n",
       "      <td>0</td>\n",
       "      <td>2</td>\n",
       "      <td>97.5</td>\n",
       "    </tr>\n",
       "  </tbody>\n",
       "</table>\n",
       "<p>5 rows × 137 columns</p>\n",
       "</div>"
      ],
      "text/plain": [
       "        sex_1  sex_2  sex_3  sex_-1  report type_1  report type_2  \\\n",
       "640719      0      1      0       0              0              1   \n",
       "640720      0      1      0       0              0              1   \n",
       "640721      0      1      0       0              0              1   \n",
       "640722      0      1      0       0              0              1   \n",
       "640723      0      1      0       0              0              1   \n",
       "\n",
       "        report type_3  report type_-1  qualification_1  qualification_2  ...  \\\n",
       "640719              0               0                1                0  ...   \n",
       "640720              0               0                1                0  ...   \n",
       "640721              0               0                1                0  ...   \n",
       "640722              0               0                1                0  ...   \n",
       "640723              0               0                1                0  ...   \n",
       "\n",
       "        reason_for_use_-1  no  reports   age  weight  height  \\\n",
       "640719                  0   1        2  50.0    50.0   160.0   \n",
       "640720                  0   1        2  50.0    50.0   160.0   \n",
       "640721                  0   1        2  50.0    50.0   160.0   \n",
       "640722                  0   1        2  50.0    50.0   160.0   \n",
       "640723                  0   1        2  50.0    50.0   160.0   \n",
       "\n",
       "        divided_dose_frequency  primary_disease  adverse event  dosage  \n",
       "640719                     1.0                1              1   125.0  \n",
       "640720                     1.0                0              2   125.0  \n",
       "640721                     1.0                0              3   125.0  \n",
       "640722                     1.0                0              1    97.5  \n",
       "640723                     1.0                0              2    97.5  \n",
       "\n",
       "[5 rows x 137 columns]"
      ]
     },
     "execution_count": 40,
     "metadata": {},
     "output_type": "execute_result"
    },
    {
     "data": {
      "text/plain": [
       "137"
      ]
     },
     "execution_count": 40,
     "metadata": {},
     "output_type": "execute_result"
    }
   ],
   "source": [
    "dataframe = pd.read_pickle('preprocessed_oxaliplatin.csv.pickle')\n",
    "dataframe.head()\n",
    "len(dataframe.columns)"
   ]
  },
  {
   "cell_type": "code",
   "execution_count": 41,
   "metadata": {},
   "outputs": [
    {
     "data": {
      "text/plain": [
       "640719      1\n",
       "640720      2\n",
       "640721      3\n",
       "640722      1\n",
       "640723      2\n",
       "640724      3\n",
       "644554      4\n",
       "649937      3\n",
       "649938      1\n",
       "649940      3\n",
       "649941      1\n",
       "649979      3\n",
       "649980      1\n",
       "649981      5\n",
       "649982      3\n",
       "649983      1\n",
       "649984      5\n",
       "650006      3\n",
       "650007      1\n",
       "650008      2\n",
       "650009      5\n",
       "650172      1\n",
       "650173      3\n",
       "650182      3\n",
       "653971      1\n",
       "653974      1\n",
       "653977      1\n",
       "653980      1\n",
       "653983      1\n",
       "653986      1\n",
       "           ..\n",
       "7108060     7\n",
       "7108172     6\n",
       "7108174     6\n",
       "7108176     6\n",
       "7108226     7\n",
       "7108227     7\n",
       "7108228     7\n",
       "7108229     7\n",
       "7108230     7\n",
       "7108231     7\n",
       "7108232     7\n",
       "7108257     7\n",
       "7108258     7\n",
       "7108259     7\n",
       "7108260     7\n",
       "7108261     7\n",
       "7108262     7\n",
       "7108263     7\n",
       "7108264     7\n",
       "7108265     7\n",
       "7108266     7\n",
       "7108267     7\n",
       "7108268     7\n",
       "7114287    10\n",
       "7114288    10\n",
       "7114289    10\n",
       "7114290    10\n",
       "7114291    10\n",
       "7114292    10\n",
       "7114293    10\n",
       "Name: adverse event, Length: 31652, dtype: int64"
      ]
     },
     "execution_count": 41,
     "metadata": {},
     "output_type": "execute_result"
    }
   ],
   "source": [
    "y = dataframe['adverse event']\n",
    "y"
   ]
  },
  {
   "cell_type": "code",
   "execution_count": 42,
   "metadata": {},
   "outputs": [
    {
     "data": {
      "text/html": [
       "<div>\n",
       "<style scoped>\n",
       "    .dataframe tbody tr th:only-of-type {\n",
       "        vertical-align: middle;\n",
       "    }\n",
       "\n",
       "    .dataframe tbody tr th {\n",
       "        vertical-align: top;\n",
       "    }\n",
       "\n",
       "    .dataframe thead th {\n",
       "        text-align: right;\n",
       "    }\n",
       "</style>\n",
       "<table border=\"1\" class=\"dataframe\">\n",
       "  <thead>\n",
       "    <tr style=\"text-align: right;\">\n",
       "      <th></th>\n",
       "      <th>sex_1</th>\n",
       "      <th>sex_2</th>\n",
       "      <th>sex_3</th>\n",
       "      <th>sex_-1</th>\n",
       "      <th>report type_1</th>\n",
       "      <th>report type_2</th>\n",
       "      <th>report type_3</th>\n",
       "      <th>report type_-1</th>\n",
       "      <th>qualification_1</th>\n",
       "      <th>qualification_2</th>\n",
       "      <th>...</th>\n",
       "      <th>reason_for_use_55</th>\n",
       "      <th>reason_for_use_-1</th>\n",
       "      <th>no</th>\n",
       "      <th>reports</th>\n",
       "      <th>age</th>\n",
       "      <th>weight</th>\n",
       "      <th>height</th>\n",
       "      <th>divided_dose_frequency</th>\n",
       "      <th>primary_disease</th>\n",
       "      <th>dosage</th>\n",
       "    </tr>\n",
       "  </thead>\n",
       "  <tbody>\n",
       "    <tr>\n",
       "      <th>640719</th>\n",
       "      <td>0</td>\n",
       "      <td>1</td>\n",
       "      <td>0</td>\n",
       "      <td>0</td>\n",
       "      <td>0</td>\n",
       "      <td>1</td>\n",
       "      <td>0</td>\n",
       "      <td>0</td>\n",
       "      <td>1</td>\n",
       "      <td>0</td>\n",
       "      <td>...</td>\n",
       "      <td>0</td>\n",
       "      <td>0</td>\n",
       "      <td>1</td>\n",
       "      <td>2</td>\n",
       "      <td>50.0</td>\n",
       "      <td>50.0</td>\n",
       "      <td>160.0</td>\n",
       "      <td>1.0</td>\n",
       "      <td>1</td>\n",
       "      <td>125.0</td>\n",
       "    </tr>\n",
       "    <tr>\n",
       "      <th>640720</th>\n",
       "      <td>0</td>\n",
       "      <td>1</td>\n",
       "      <td>0</td>\n",
       "      <td>0</td>\n",
       "      <td>0</td>\n",
       "      <td>1</td>\n",
       "      <td>0</td>\n",
       "      <td>0</td>\n",
       "      <td>1</td>\n",
       "      <td>0</td>\n",
       "      <td>...</td>\n",
       "      <td>0</td>\n",
       "      <td>0</td>\n",
       "      <td>1</td>\n",
       "      <td>2</td>\n",
       "      <td>50.0</td>\n",
       "      <td>50.0</td>\n",
       "      <td>160.0</td>\n",
       "      <td>1.0</td>\n",
       "      <td>0</td>\n",
       "      <td>125.0</td>\n",
       "    </tr>\n",
       "    <tr>\n",
       "      <th>640721</th>\n",
       "      <td>0</td>\n",
       "      <td>1</td>\n",
       "      <td>0</td>\n",
       "      <td>0</td>\n",
       "      <td>0</td>\n",
       "      <td>1</td>\n",
       "      <td>0</td>\n",
       "      <td>0</td>\n",
       "      <td>1</td>\n",
       "      <td>0</td>\n",
       "      <td>...</td>\n",
       "      <td>0</td>\n",
       "      <td>0</td>\n",
       "      <td>1</td>\n",
       "      <td>2</td>\n",
       "      <td>50.0</td>\n",
       "      <td>50.0</td>\n",
       "      <td>160.0</td>\n",
       "      <td>1.0</td>\n",
       "      <td>0</td>\n",
       "      <td>125.0</td>\n",
       "    </tr>\n",
       "    <tr>\n",
       "      <th>640722</th>\n",
       "      <td>0</td>\n",
       "      <td>1</td>\n",
       "      <td>0</td>\n",
       "      <td>0</td>\n",
       "      <td>0</td>\n",
       "      <td>1</td>\n",
       "      <td>0</td>\n",
       "      <td>0</td>\n",
       "      <td>1</td>\n",
       "      <td>0</td>\n",
       "      <td>...</td>\n",
       "      <td>0</td>\n",
       "      <td>0</td>\n",
       "      <td>1</td>\n",
       "      <td>2</td>\n",
       "      <td>50.0</td>\n",
       "      <td>50.0</td>\n",
       "      <td>160.0</td>\n",
       "      <td>1.0</td>\n",
       "      <td>0</td>\n",
       "      <td>97.5</td>\n",
       "    </tr>\n",
       "    <tr>\n",
       "      <th>640723</th>\n",
       "      <td>0</td>\n",
       "      <td>1</td>\n",
       "      <td>0</td>\n",
       "      <td>0</td>\n",
       "      <td>0</td>\n",
       "      <td>1</td>\n",
       "      <td>0</td>\n",
       "      <td>0</td>\n",
       "      <td>1</td>\n",
       "      <td>0</td>\n",
       "      <td>...</td>\n",
       "      <td>0</td>\n",
       "      <td>0</td>\n",
       "      <td>1</td>\n",
       "      <td>2</td>\n",
       "      <td>50.0</td>\n",
       "      <td>50.0</td>\n",
       "      <td>160.0</td>\n",
       "      <td>1.0</td>\n",
       "      <td>0</td>\n",
       "      <td>97.5</td>\n",
       "    </tr>\n",
       "  </tbody>\n",
       "</table>\n",
       "<p>5 rows × 136 columns</p>\n",
       "</div>"
      ],
      "text/plain": [
       "        sex_1  sex_2  sex_3  sex_-1  report type_1  report type_2  \\\n",
       "640719      0      1      0       0              0              1   \n",
       "640720      0      1      0       0              0              1   \n",
       "640721      0      1      0       0              0              1   \n",
       "640722      0      1      0       0              0              1   \n",
       "640723      0      1      0       0              0              1   \n",
       "\n",
       "        report type_3  report type_-1  qualification_1  qualification_2  ...  \\\n",
       "640719              0               0                1                0  ...   \n",
       "640720              0               0                1                0  ...   \n",
       "640721              0               0                1                0  ...   \n",
       "640722              0               0                1                0  ...   \n",
       "640723              0               0                1                0  ...   \n",
       "\n",
       "        reason_for_use_55  reason_for_use_-1  no  reports   age  weight  \\\n",
       "640719                  0                  0   1        2  50.0    50.0   \n",
       "640720                  0                  0   1        2  50.0    50.0   \n",
       "640721                  0                  0   1        2  50.0    50.0   \n",
       "640722                  0                  0   1        2  50.0    50.0   \n",
       "640723                  0                  0   1        2  50.0    50.0   \n",
       "\n",
       "        height  divided_dose_frequency  primary_disease  dosage  \n",
       "640719   160.0                     1.0                1   125.0  \n",
       "640720   160.0                     1.0                0   125.0  \n",
       "640721   160.0                     1.0                0   125.0  \n",
       "640722   160.0                     1.0                0    97.5  \n",
       "640723   160.0                     1.0                0    97.5  \n",
       "\n",
       "[5 rows x 136 columns]"
      ]
     },
     "execution_count": 42,
     "metadata": {},
     "output_type": "execute_result"
    }
   ],
   "source": [
    "X = dataframe.drop('adverse event', axis=1)\n",
    "X.head()"
   ]
  },
  {
   "cell_type": "code",
   "execution_count": 43,
   "metadata": {},
   "outputs": [
    {
     "name": "stderr",
     "output_type": "stream",
     "text": [
      "/Users/takayoshi-endo/.pyenv/versions/3.6.8/lib/python3.6/site-packages/ipykernel_launcher.py:1: DataConversionWarning: Data with input dtype int64, float64 were all converted to float64 by the scale function.\n",
      "  \"\"\"Entry point for launching an IPython kernel.\n"
     ]
    },
    {
     "data": {
      "text/plain": [
       "array([[-1.18162811e+00,  1.18170487e+00,  0.00000000e+00, ...,\n",
       "        -5.62090548e-03, -2.13687118e-01, -1.61032403e-02],\n",
       "       [-1.18162811e+00,  1.18170487e+00,  0.00000000e+00, ...,\n",
       "        -5.62090548e-03, -2.64186425e-01, -1.61032403e-02],\n",
       "       [-1.18162811e+00,  1.18170487e+00,  0.00000000e+00, ...,\n",
       "        -5.62090548e-03, -2.64186425e-01, -1.61032403e-02],\n",
       "       ...,\n",
       "       [ 8.46289957e-01, -8.46234980e-01,  0.00000000e+00, ...,\n",
       "        -5.62090548e-03,  1.05931646e+01, -1.13273795e-01],\n",
       "       [ 8.46289957e-01, -8.46234980e-01,  0.00000000e+00, ...,\n",
       "        -5.62090548e-03,  3.67475951e+00, -1.13273795e-01],\n",
       "       [ 8.46289957e-01, -8.46234980e-01,  0.00000000e+00, ...,\n",
       "        -5.62090548e-03,  8.52269298e+00, -1.13273795e-01]])"
      ]
     },
     "execution_count": 43,
     "metadata": {},
     "output_type": "execute_result"
    }
   ],
   "source": [
    "X = preprocessing.scale(X)\n",
    "X"
   ]
  },
  {
   "cell_type": "code",
   "execution_count": 44,
   "metadata": {},
   "outputs": [
    {
     "data": {
      "text/plain": [
       "1     9574\n",
       "3     6113\n",
       "6     2639\n",
       "9     2613\n",
       "2     2299\n",
       "10    2161\n",
       "5     2130\n",
       "7     1782\n",
       "4     1258\n",
       "8     1083\n",
       "Name: adverse event, dtype: int64"
      ]
     },
     "execution_count": 44,
     "metadata": {},
     "output_type": "execute_result"
    },
    {
     "data": {
      "text/plain": [
       "array([ 1,  2,  3, ..., 10, 10, 10])"
      ]
     },
     "execution_count": 44,
     "metadata": {},
     "output_type": "execute_result"
    }
   ],
   "source": [
    "y.value_counts()\n",
    "y = y.values\n",
    "y"
   ]
  },
  {
   "cell_type": "code",
   "execution_count": 45,
   "metadata": {},
   "outputs": [
    {
     "data": {
      "text/plain": [
       "array([[0., 1., 0., ..., 0., 0., 0.],\n",
       "       [0., 0., 1., ..., 0., 0., 0.],\n",
       "       [0., 0., 0., ..., 0., 0., 0.],\n",
       "       ...,\n",
       "       [0., 0., 0., ..., 0., 0., 1.],\n",
       "       [0., 0., 0., ..., 0., 0., 1.],\n",
       "       [0., 0., 0., ..., 0., 0., 1.]], dtype=float32)"
      ]
     },
     "execution_count": 45,
     "metadata": {},
     "output_type": "execute_result"
    }
   ],
   "source": [
    "num_classes = 11\n",
    "y = tf.keras.utils.to_categorical(y, num_classes)\n",
    "y"
   ]
  },
  {
   "cell_type": "code",
   "execution_count": 76,
   "metadata": {},
   "outputs": [],
   "source": [
    "n_in = len(X[0])\n",
    "n_out = len(y[0])\n",
    "n_hiddens = [200, 200, 200, 200, 200]\n",
    "p_keep = 0.5\n",
    "activation = 'relu'\n",
    "multiclass = 'softmax'\n",
    "alpha = 0.01\n",
    "epochs = 50\n",
    "batch_size = 200"
   ]
  },
  {
   "cell_type": "code",
   "execution_count": 77,
   "metadata": {},
   "outputs": [],
   "source": [
    "X_train, X_test, y_train, y_test = train_test_split(X, y, train_size=0.8)"
   ]
  },
  {
   "cell_type": "code",
   "execution_count": 78,
   "metadata": {},
   "outputs": [],
   "source": [
    "def build_multilayer_perceptron():\n",
    "    model = Sequential()\n",
    "    for i, input_dim in enumerate(([n_in] + n_hiddens)[:-1]):\n",
    "        model.add(Dense(n_hiddens[i], input_dim=input_dim, kernel_initializer='uniform'))\n",
    "        model.add(PReLU())\n",
    "        model.add(Dropout(p_keep))\n",
    "\n",
    "    model.add(Dense(n_out))\n",
    "    model.add(Activation(multiclass))\n",
    "    return model"
   ]
  },
  {
   "cell_type": "code",
   "execution_count": 79,
   "metadata": {},
   "outputs": [],
   "source": [
    "model = build_multilayer_perceptron()"
   ]
  },
  {
   "cell_type": "code",
   "execution_count": 80,
   "metadata": {},
   "outputs": [],
   "source": [
    "model.compile(\n",
    "    optimizer=Adam(),\n",
    "    loss='categorical_crossentropy',\n",
    "    metrics=['accuracy']\n",
    ")"
   ]
  },
  {
   "cell_type": "code",
   "execution_count": 81,
   "metadata": {},
   "outputs": [
    {
     "data": {
      "text/plain": [
       "((25321, 136), (25321, 11))"
      ]
     },
     "execution_count": 81,
     "metadata": {},
     "output_type": "execute_result"
    }
   ],
   "source": [
    "X_train.shape, y_train.shape"
   ]
  },
  {
   "cell_type": "code",
   "execution_count": 82,
   "metadata": {},
   "outputs": [
    {
     "name": "stdout",
     "output_type": "stream",
     "text": [
      "Train on 22788 samples, validate on 2533 samples\n",
      "Epoch 1/50\n",
      "22788/22788 [==============================] - 2s 101us/sample - loss: 1.8887 - accuracy: 0.3210 - val_loss: 1.6727 - val_accuracy: 0.3648\n",
      "Epoch 2/50\n",
      "22788/22788 [==============================] - 1s 58us/sample - loss: 1.6560 - accuracy: 0.4016 - val_loss: 1.5466 - val_accuracy: 0.4414\n",
      "Epoch 3/50\n",
      "22788/22788 [==============================] - 1s 61us/sample - loss: 1.5225 - accuracy: 0.4532 - val_loss: 1.4169 - val_accuracy: 0.4714\n",
      "Epoch 4/50\n",
      "22788/22788 [==============================] - 2s 71us/sample - loss: 1.4552 - accuracy: 0.4696 - val_loss: 1.3896 - val_accuracy: 0.4832\n",
      "Epoch 5/50\n",
      "22788/22788 [==============================] - 2s 67us/sample - loss: 1.4223 - accuracy: 0.4796 - val_loss: 1.3775 - val_accuracy: 0.4891\n",
      "Epoch 6/50\n",
      "22788/22788 [==============================] - 2s 67us/sample - loss: 1.4000 - accuracy: 0.4829 - val_loss: 1.3596 - val_accuracy: 0.4812\n",
      "Epoch 7/50\n",
      "22788/22788 [==============================] - 2s 101us/sample - loss: 1.3865 - accuracy: 0.4863 - val_loss: 1.3514 - val_accuracy: 0.4955\n",
      "Epoch 8/50\n",
      "22788/22788 [==============================] - 1s 62us/sample - loss: 1.3684 - accuracy: 0.4928 - val_loss: 1.3432 - val_accuracy: 0.5018\n",
      "Epoch 9/50\n",
      "22788/22788 [==============================] - 2s 90us/sample - loss: 1.3581 - accuracy: 0.4924 - val_loss: 1.3445 - val_accuracy: 0.5026\n",
      "Epoch 10/50\n",
      "22788/22788 [==============================] - 2s 70us/sample - loss: 1.3507 - accuracy: 0.4983 - val_loss: 1.3228 - val_accuracy: 0.5089\n",
      "Epoch 11/50\n",
      "22788/22788 [==============================] - 1s 59us/sample - loss: 1.3329 - accuracy: 0.5008 - val_loss: 1.3165 - val_accuracy: 0.5109\n",
      "Epoch 12/50\n",
      "22788/22788 [==============================] - 1s 62us/sample - loss: 1.3252 - accuracy: 0.5020 - val_loss: 1.3115 - val_accuracy: 0.5109\n",
      "Epoch 13/50\n",
      "22788/22788 [==============================] - 2s 79us/sample - loss: 1.3239 - accuracy: 0.5033 - val_loss: 1.3029 - val_accuracy: 0.5073\n",
      "Epoch 14/50\n",
      "22788/22788 [==============================] - 2s 92us/sample - loss: 1.3134 - accuracy: 0.5074 - val_loss: 1.2850 - val_accuracy: 0.5136\n",
      "Epoch 15/50\n",
      "22788/22788 [==============================] - 2s 94us/sample - loss: 1.3003 - accuracy: 0.5093 - val_loss: 1.2923 - val_accuracy: 0.5093\n",
      "Epoch 16/50\n",
      "22788/22788 [==============================] - 2s 104us/sample - loss: 1.3001 - accuracy: 0.5100 - val_loss: 1.2759 - val_accuracy: 0.5188\n",
      "Epoch 17/50\n",
      "22788/22788 [==============================] - 2s 80us/sample - loss: 1.2960 - accuracy: 0.5117 - val_loss: 1.2723 - val_accuracy: 0.5195\n",
      "Epoch 18/50\n",
      "22788/22788 [==============================] - 2s 78us/sample - loss: 1.2843 - accuracy: 0.5136 - val_loss: 1.2679 - val_accuracy: 0.5215\n",
      "Epoch 19/50\n",
      "22788/22788 [==============================] - 2s 80us/sample - loss: 1.2871 - accuracy: 0.5135 - val_loss: 1.2699 - val_accuracy: 0.5255\n",
      "Epoch 20/50\n",
      "22788/22788 [==============================] - 2s 76us/sample - loss: 1.2757 - accuracy: 0.5153 - val_loss: 1.2669 - val_accuracy: 0.5215\n",
      "Epoch 21/50\n",
      "22788/22788 [==============================] - 2s 81us/sample - loss: 1.2680 - accuracy: 0.5202 - val_loss: 1.2723 - val_accuracy: 0.5247\n",
      "Epoch 22/50\n",
      "22788/22788 [==============================] - 2s 75us/sample - loss: 1.2685 - accuracy: 0.5182 - val_loss: 1.2532 - val_accuracy: 0.5282\n",
      "Epoch 23/50\n",
      "22788/22788 [==============================] - 2s 74us/sample - loss: 1.2617 - accuracy: 0.5189 - val_loss: 1.2740 - val_accuracy: 0.5310\n",
      "Epoch 24/50\n",
      "22788/22788 [==============================] - 1s 57us/sample - loss: 1.2524 - accuracy: 0.5224 - val_loss: 1.2750 - val_accuracy: 0.5310\n",
      "Epoch 25/50\n",
      "22788/22788 [==============================] - 1s 59us/sample - loss: 1.2495 - accuracy: 0.5237 - val_loss: 1.2588 - val_accuracy: 0.5349\n",
      "Epoch 26/50\n",
      "22788/22788 [==============================] - 1s 58us/sample - loss: 1.2510 - accuracy: 0.5234 - val_loss: 1.2622 - val_accuracy: 0.5349\n",
      "Epoch 27/50\n",
      "22788/22788 [==============================] - 1s 60us/sample - loss: 1.2414 - accuracy: 0.5262 - val_loss: 1.2351 - val_accuracy: 0.5401\n",
      "Epoch 28/50\n",
      "22788/22788 [==============================] - 1s 60us/sample - loss: 1.2362 - accuracy: 0.5280 - val_loss: 1.2656 - val_accuracy: 0.5389\n",
      "Epoch 29/50\n",
      "22788/22788 [==============================] - 1s 58us/sample - loss: 1.2327 - accuracy: 0.5291 - val_loss: 1.2494 - val_accuracy: 0.5385\n",
      "Epoch 30/50\n",
      "22788/22788 [==============================] - 2s 76us/sample - loss: 1.2278 - accuracy: 0.5282 - val_loss: 1.2478 - val_accuracy: 0.5357\n",
      "Epoch 31/50\n",
      "22788/22788 [==============================] - 2s 70us/sample - loss: 1.2245 - accuracy: 0.5301 - val_loss: 1.2142 - val_accuracy: 0.5448\n",
      "Epoch 32/50\n",
      "22788/22788 [==============================] - 2s 67us/sample - loss: 1.2236 - accuracy: 0.5283 - val_loss: 1.2292 - val_accuracy: 0.5401\n",
      "Epoch 33/50\n",
      "22788/22788 [==============================] - 1s 60us/sample - loss: 1.2259 - accuracy: 0.5312 - val_loss: 1.2107 - val_accuracy: 0.5444\n",
      "Epoch 34/50\n",
      "22788/22788 [==============================] - 1s 58us/sample - loss: 1.2163 - accuracy: 0.5331 - val_loss: 1.2181 - val_accuracy: 0.5448\n",
      "Epoch 35/50\n",
      "22788/22788 [==============================] - 1s 58us/sample - loss: 1.2061 - accuracy: 0.5310 - val_loss: 1.2096 - val_accuracy: 0.5444\n",
      "Epoch 36/50\n",
      "22788/22788 [==============================] - 1s 58us/sample - loss: 1.2143 - accuracy: 0.5305 - val_loss: 1.2415 - val_accuracy: 0.5428\n",
      "Epoch 37/50\n",
      "22788/22788 [==============================] - 1s 55us/sample - loss: 1.2082 - accuracy: 0.5336 - val_loss: 1.2448 - val_accuracy: 0.5393\n",
      "Epoch 38/50\n",
      "22788/22788 [==============================] - 1s 58us/sample - loss: 1.2097 - accuracy: 0.5374 - val_loss: 1.1996 - val_accuracy: 0.5499\n",
      "Epoch 39/50\n",
      "22788/22788 [==============================] - 1s 55us/sample - loss: 1.2075 - accuracy: 0.5348 - val_loss: 1.2369 - val_accuracy: 0.5515\n",
      "Epoch 40/50\n",
      "22788/22788 [==============================] - 1s 54us/sample - loss: 1.1981 - accuracy: 0.5359 - val_loss: 1.2249 - val_accuracy: 0.5440\n",
      "Epoch 41/50\n",
      "22788/22788 [==============================] - 1s 56us/sample - loss: 1.2036 - accuracy: 0.5369 - val_loss: 1.2034 - val_accuracy: 0.5472\n",
      "Epoch 42/50\n",
      "22788/22788 [==============================] - 1s 57us/sample - loss: 1.1961 - accuracy: 0.5354 - val_loss: 1.2068 - val_accuracy: 0.5555\n",
      "Epoch 43/50\n",
      "22788/22788 [==============================] - 1s 55us/sample - loss: 1.1856 - accuracy: 0.5405 - val_loss: 1.2064 - val_accuracy: 0.5527\n",
      "Epoch 44/50\n",
      "22788/22788 [==============================] - 1s 57us/sample - loss: 1.1936 - accuracy: 0.5379 - val_loss: 1.2293 - val_accuracy: 0.5444\n",
      "Epoch 45/50\n",
      "22788/22788 [==============================] - 1s 56us/sample - loss: 1.1869 - accuracy: 0.5395 - val_loss: 1.2194 - val_accuracy: 0.5555\n",
      "Epoch 46/50\n",
      "22788/22788 [==============================] - 1s 57us/sample - loss: 1.1826 - accuracy: 0.5442 - val_loss: 1.2218 - val_accuracy: 0.5495\n",
      "Epoch 47/50\n",
      "22788/22788 [==============================] - ETA: 0s - loss: 1.1780 - accuracy: 0.53 - 1s 59us/sample - loss: 1.1767 - accuracy: 0.5398 - val_loss: 1.2166 - val_accuracy: 0.5484\n",
      "Epoch 48/50\n",
      "22788/22788 [==============================] - 1s 56us/sample - loss: 1.1825 - accuracy: 0.5424 - val_loss: 1.1740 - val_accuracy: 0.5480\n",
      "Epoch 49/50\n",
      "22788/22788 [==============================] - 1s 55us/sample - loss: 1.1832 - accuracy: 0.5410 - val_loss: 1.1779 - val_accuracy: 0.5543\n",
      "Epoch 50/50\n",
      "22788/22788 [==============================] - 1s 57us/sample - loss: 1.1777 - accuracy: 0.5438 - val_loss: 1.2004 - val_accuracy: 0.5535\n"
     ]
    }
   ],
   "source": [
    "es = EarlyStopping(monitor='val_loss', patience=10)\n",
    "csv_logger = CSVLogger('training.log')\n",
    "hist = model.fit(X_train, y_train,\n",
    "                 batch_size=batch_size,\n",
    "                 epochs=epochs,\n",
    "                 verbose=1,\n",
    "                 validation_split=0.1,\n",
    "                 callbacks=[es, csv_logger])"
   ]
  },
  {
   "cell_type": "code",
   "execution_count": 83,
   "metadata": {},
   "outputs": [
    {
     "data": {
      "text/plain": [
       "'accuracy'"
      ]
     },
     "execution_count": 83,
     "metadata": {},
     "output_type": "execute_result"
    },
    {
     "data": {
      "text/plain": [
       "57.58562088012695"
      ]
     },
     "execution_count": 83,
     "metadata": {},
     "output_type": "execute_result"
    }
   ],
   "source": [
    "score = model.evaluate(X, y, verbose=0)\n",
    "model.metrics_names[1]\n",
    "score[1] * 100"
   ]
  },
  {
   "cell_type": "code",
   "execution_count": 84,
   "metadata": {},
   "outputs": [
    {
     "data": {
      "text/plain": [
       "[<matplotlib.lines.Line2D at 0x14dffdda0>]"
      ]
     },
     "execution_count": 84,
     "metadata": {},
     "output_type": "execute_result"
    },
    {
     "data": {
      "text/plain": [
       "[<matplotlib.lines.Line2D at 0x14dfd7208>]"
      ]
     },
     "execution_count": 84,
     "metadata": {},
     "output_type": "execute_result"
    },
    {
     "data": {
      "text/plain": [
       "<matplotlib.legend.Legend at 0x130f81160>"
      ]
     },
     "execution_count": 84,
     "metadata": {},
     "output_type": "execute_result"
    },
    {
     "data": {
      "text/plain": [
       "Text(0.5, 0, 'epoch')"
      ]
     },
     "execution_count": 84,
     "metadata": {},
     "output_type": "execute_result"
    },
    {
     "data": {
      "text/plain": [
       "Text(0, 0.5, 'acc')"
      ]
     },
     "execution_count": 84,
     "metadata": {},
     "output_type": "execute_result"
    },
    {
     "data": {
      "image/png": "[encoded data removed]",
      "text/plain": [
       "<Figure size 432x288 with 1 Axes>"
      ]
     },
     "metadata": {
      "needs_background": "light"
     },
     "output_type": "display_data"
    }
   ],
   "source": [
    "loss = hist.history['loss']\n",
    "val_loss = hist.history['val_loss']\n",
    "\n",
    "epochs = len(loss)\n",
    "plt.plot(range(epochs), loss, marker='.', label='acc')\n",
    "plt.plot(range(epochs), val_loss, marker='.', label='val_acc')\n",
    "plt.legend(loc='best')\n",
    "plt.grid()\n",
    "plt.xlabel('epoch')\n",
    "plt.ylabel('acc')\n",
    "plt.show()"
   ]
  },
  {
   "cell_type": "code",
   "execution_count": 85,
   "metadata": {},
   "outputs": [
    {
     "name": "stdout",
     "output_type": "stream",
     "text": [
      "dict_keys(['loss', 'accuracy', 'val_loss', 'val_accuracy'])\n"
     ]
    },
    {
     "data": {
      "image/png": "[encoded data removed]",
      "text/plain": [
       "<Figure size 432x288 with 1 Axes>"
      ]
     },
     "metadata": {
      "needs_background": "light"
     },
     "output_type": "display_data"
    },
    {
     "data": {
      "image/png": "[encoded data removed]",
      "text/plain": [
       "<Figure size 432x288 with 1 Axes>"
      ]
     },
     "metadata": {
      "needs_background": "light"
     },
     "output_type": "display_data"
    }
   ],
   "source": [
    "def plot_history(history):\n",
    "    print(history.history.keys())\n",
    "\n",
    "    # 精度の履歴をプロット\n",
    "    plt.plot(history.history['accuracy'])\n",
    "    plt.plot(history.history['val_accuracy'])\n",
    "    plt.title('model accuracy')\n",
    "    plt.xlabel('epoch')\n",
    "    plt.ylabel('accuracy')\n",
    "    plt.legend(['acc', 'val_acc'], loc='lower right')\n",
    "    plt.show()\n",
    "\n",
    "    # 損失の履歴をプロット\n",
    "    plt.plot(history.history['loss'])\n",
    "    plt.plot(history.history['val_loss'])\n",
    "    plt.title('model loss')\n",
    "    plt.xlabel('epoch')\n",
    "    plt.ylabel('loss')\n",
    "    plt.legend(['loss', 'val_loss'], loc='lower right')\n",
    "    plt.show()\n",
    "\n",
    "# 学習履歴をプロット\n",
    "plot_history(hist)"
   ]
  }
 ],
 "metadata": {
  "kernelspec": {
   "display_name": "Python 3",
   "language": "python",
   "name": "python3"
  },
  "language_info": {
   "codemirror_mode": {
    "name": "ipython",
    "version": 3
   },
   "file_extension": ".py",
   "mimetype": "text/x-python",
   "name": "python",
   "nbconvert_exporter": "python",
   "pygments_lexer": "ipython3",
   "version": "3.6.8"
  }
 },
 "nbformat": 4,
 "nbformat_minor": 2
}
