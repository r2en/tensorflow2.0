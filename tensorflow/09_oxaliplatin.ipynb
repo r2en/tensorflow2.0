{
 "cells": [
  {
   "cell_type": "code",
   "execution_count": 1,
   "metadata": {},
   "outputs": [],
   "source": [
    "import numpy as np\n",
    "import pandas as pd\n",
    "import matplotlib.pyplot as plt\n",
    "import matplotlib\n",
    "%matplotlib inline\n",
    "import seaborn as sns\n",
    "\n",
    "from IPython.core.interactiveshell import InteractiveShell\n",
    "InteractiveShell.ast_node_interactivity = 'all'\n",
    "\n",
    "%reload_ext autoreload\n",
    "%autoreload 2"
   ]
  },
  {
   "cell_type": "code",
   "execution_count": 66,
   "metadata": {},
   "outputs": [],
   "source": [
    "import tensorflow as tf\n",
    "from tensorflow.keras.datasets import mnist\n",
    "from tensorflow.keras.models import Sequential\n",
    "from tensorflow.keras.layers import Activation, Dense, Dropout\n",
    "from tensorflow.keras import Sequential\n",
    "from tensorflow.keras.optimizers import SGD, RMSprop, Adam\n",
    "from tensorflow.keras.callbacks import EarlyStopping, CSVLogger"
   ]
  },
  {
   "cell_type": "code",
   "execution_count": 67,
   "metadata": {},
   "outputs": [
    {
     "data": {
      "text/plain": [
       "'2.0.0-dev20190315'"
      ]
     },
     "execution_count": 67,
     "metadata": {},
     "output_type": "execute_result"
    }
   ],
   "source": [
    "tf.__version__"
   ]
  },
  {
   "cell_type": "code",
   "execution_count": 68,
   "metadata": {},
   "outputs": [],
   "source": [
    "from sklearn import datasets\n",
    "from sklearn import preprocessing\n",
    "from sklearn.model_selection import train_test_split"
   ]
  },
  {
   "cell_type": "code",
   "execution_count": 69,
   "metadata": {},
   "outputs": [
    {
     "data": {
      "text/html": [
       "<div>\n",
       "<style scoped>\n",
       "    .dataframe tbody tr th:only-of-type {\n",
       "        vertical-align: middle;\n",
       "    }\n",
       "\n",
       "    .dataframe tbody tr th {\n",
       "        vertical-align: top;\n",
       "    }\n",
       "\n",
       "    .dataframe thead th {\n",
       "        text-align: right;\n",
       "    }\n",
       "</style>\n",
       "<table border=\"1\" class=\"dataframe\">\n",
       "  <thead>\n",
       "    <tr style=\"text-align: right;\">\n",
       "      <th></th>\n",
       "      <th>sex_1</th>\n",
       "      <th>sex_2</th>\n",
       "      <th>sex_3</th>\n",
       "      <th>sex_-1</th>\n",
       "      <th>report type_1</th>\n",
       "      <th>report type_2</th>\n",
       "      <th>report type_3</th>\n",
       "      <th>report type_-1</th>\n",
       "      <th>qualification_1</th>\n",
       "      <th>qualification_2</th>\n",
       "      <th>...</th>\n",
       "      <th>reason_for_use_-1</th>\n",
       "      <th>no</th>\n",
       "      <th>reports</th>\n",
       "      <th>age</th>\n",
       "      <th>weight</th>\n",
       "      <th>height</th>\n",
       "      <th>divided_dose_frequency</th>\n",
       "      <th>primary_disease</th>\n",
       "      <th>adverse event</th>\n",
       "      <th>dosage</th>\n",
       "    </tr>\n",
       "  </thead>\n",
       "  <tbody>\n",
       "    <tr>\n",
       "      <th>640719</th>\n",
       "      <td>0</td>\n",
       "      <td>1</td>\n",
       "      <td>0</td>\n",
       "      <td>0</td>\n",
       "      <td>0</td>\n",
       "      <td>1</td>\n",
       "      <td>0</td>\n",
       "      <td>0</td>\n",
       "      <td>1</td>\n",
       "      <td>0</td>\n",
       "      <td>...</td>\n",
       "      <td>0</td>\n",
       "      <td>1</td>\n",
       "      <td>2</td>\n",
       "      <td>50.0</td>\n",
       "      <td>50.0</td>\n",
       "      <td>160.0</td>\n",
       "      <td>1.0</td>\n",
       "      <td>1</td>\n",
       "      <td>1</td>\n",
       "      <td>125.0</td>\n",
       "    </tr>\n",
       "    <tr>\n",
       "      <th>640720</th>\n",
       "      <td>0</td>\n",
       "      <td>1</td>\n",
       "      <td>0</td>\n",
       "      <td>0</td>\n",
       "      <td>0</td>\n",
       "      <td>1</td>\n",
       "      <td>0</td>\n",
       "      <td>0</td>\n",
       "      <td>1</td>\n",
       "      <td>0</td>\n",
       "      <td>...</td>\n",
       "      <td>0</td>\n",
       "      <td>1</td>\n",
       "      <td>2</td>\n",
       "      <td>50.0</td>\n",
       "      <td>50.0</td>\n",
       "      <td>160.0</td>\n",
       "      <td>1.0</td>\n",
       "      <td>0</td>\n",
       "      <td>2</td>\n",
       "      <td>125.0</td>\n",
       "    </tr>\n",
       "    <tr>\n",
       "      <th>640721</th>\n",
       "      <td>0</td>\n",
       "      <td>1</td>\n",
       "      <td>0</td>\n",
       "      <td>0</td>\n",
       "      <td>0</td>\n",
       "      <td>1</td>\n",
       "      <td>0</td>\n",
       "      <td>0</td>\n",
       "      <td>1</td>\n",
       "      <td>0</td>\n",
       "      <td>...</td>\n",
       "      <td>0</td>\n",
       "      <td>1</td>\n",
       "      <td>2</td>\n",
       "      <td>50.0</td>\n",
       "      <td>50.0</td>\n",
       "      <td>160.0</td>\n",
       "      <td>1.0</td>\n",
       "      <td>0</td>\n",
       "      <td>3</td>\n",
       "      <td>125.0</td>\n",
       "    </tr>\n",
       "    <tr>\n",
       "      <th>640722</th>\n",
       "      <td>0</td>\n",
       "      <td>1</td>\n",
       "      <td>0</td>\n",
       "      <td>0</td>\n",
       "      <td>0</td>\n",
       "      <td>1</td>\n",
       "      <td>0</td>\n",
       "      <td>0</td>\n",
       "      <td>1</td>\n",
       "      <td>0</td>\n",
       "      <td>...</td>\n",
       "      <td>0</td>\n",
       "      <td>1</td>\n",
       "      <td>2</td>\n",
       "      <td>50.0</td>\n",
       "      <td>50.0</td>\n",
       "      <td>160.0</td>\n",
       "      <td>1.0</td>\n",
       "      <td>0</td>\n",
       "      <td>1</td>\n",
       "      <td>97.5</td>\n",
       "    </tr>\n",
       "    <tr>\n",
       "      <th>640723</th>\n",
       "      <td>0</td>\n",
       "      <td>1</td>\n",
       "      <td>0</td>\n",
       "      <td>0</td>\n",
       "      <td>0</td>\n",
       "      <td>1</td>\n",
       "      <td>0</td>\n",
       "      <td>0</td>\n",
       "      <td>1</td>\n",
       "      <td>0</td>\n",
       "      <td>...</td>\n",
       "      <td>0</td>\n",
       "      <td>1</td>\n",
       "      <td>2</td>\n",
       "      <td>50.0</td>\n",
       "      <td>50.0</td>\n",
       "      <td>160.0</td>\n",
       "      <td>1.0</td>\n",
       "      <td>0</td>\n",
       "      <td>2</td>\n",
       "      <td>97.5</td>\n",
       "    </tr>\n",
       "  </tbody>\n",
       "</table>\n",
       "<p>5 rows × 137 columns</p>\n",
       "</div>"
      ],
      "text/plain": [
       "        sex_1  sex_2  sex_3  sex_-1  report type_1  report type_2  \\\n",
       "640719      0      1      0       0              0              1   \n",
       "640720      0      1      0       0              0              1   \n",
       "640721      0      1      0       0              0              1   \n",
       "640722      0      1      0       0              0              1   \n",
       "640723      0      1      0       0              0              1   \n",
       "\n",
       "        report type_3  report type_-1  qualification_1  qualification_2  ...  \\\n",
       "640719              0               0                1                0  ...   \n",
       "640720              0               0                1                0  ...   \n",
       "640721              0               0                1                0  ...   \n",
       "640722              0               0                1                0  ...   \n",
       "640723              0               0                1                0  ...   \n",
       "\n",
       "        reason_for_use_-1  no  reports   age  weight  height  \\\n",
       "640719                  0   1        2  50.0    50.0   160.0   \n",
       "640720                  0   1        2  50.0    50.0   160.0   \n",
       "640721                  0   1        2  50.0    50.0   160.0   \n",
       "640722                  0   1        2  50.0    50.0   160.0   \n",
       "640723                  0   1        2  50.0    50.0   160.0   \n",
       "\n",
       "        divided_dose_frequency  primary_disease  adverse event  dosage  \n",
       "640719                     1.0                1              1   125.0  \n",
       "640720                     1.0                0              2   125.0  \n",
       "640721                     1.0                0              3   125.0  \n",
       "640722                     1.0                0              1    97.5  \n",
       "640723                     1.0                0              2    97.5  \n",
       "\n",
       "[5 rows x 137 columns]"
      ]
     },
     "execution_count": 69,
     "metadata": {},
     "output_type": "execute_result"
    },
    {
     "data": {
      "text/plain": [
       "137"
      ]
     },
     "execution_count": 69,
     "metadata": {},
     "output_type": "execute_result"
    }
   ],
   "source": [
    "dataframe = pd.read_pickle('preprocessed_oxaliplatin.csv.pickle')\n",
    "dataframe.head()\n",
    "len(dataframe.columns)"
   ]
  },
  {
   "cell_type": "code",
   "execution_count": 70,
   "metadata": {},
   "outputs": [
    {
     "data": {
      "text/plain": [
       "640719      1\n",
       "640720      2\n",
       "640721      3\n",
       "640722      1\n",
       "640723      2\n",
       "640724      3\n",
       "644554      4\n",
       "649937      3\n",
       "649938      1\n",
       "649940      3\n",
       "649941      1\n",
       "649979      3\n",
       "649980      1\n",
       "649981      5\n",
       "649982      3\n",
       "649983      1\n",
       "649984      5\n",
       "650006      3\n",
       "650007      1\n",
       "650008      2\n",
       "650009      5\n",
       "650172      1\n",
       "650173      3\n",
       "650182      3\n",
       "653971      1\n",
       "653974      1\n",
       "653977      1\n",
       "653980      1\n",
       "653983      1\n",
       "653986      1\n",
       "           ..\n",
       "7108060     7\n",
       "7108172     6\n",
       "7108174     6\n",
       "7108176     6\n",
       "7108226     7\n",
       "7108227     7\n",
       "7108228     7\n",
       "7108229     7\n",
       "7108230     7\n",
       "7108231     7\n",
       "7108232     7\n",
       "7108257     7\n",
       "7108258     7\n",
       "7108259     7\n",
       "7108260     7\n",
       "7108261     7\n",
       "7108262     7\n",
       "7108263     7\n",
       "7108264     7\n",
       "7108265     7\n",
       "7108266     7\n",
       "7108267     7\n",
       "7108268     7\n",
       "7114287    10\n",
       "7114288    10\n",
       "7114289    10\n",
       "7114290    10\n",
       "7114291    10\n",
       "7114292    10\n",
       "7114293    10\n",
       "Name: adverse event, Length: 31652, dtype: int64"
      ]
     },
     "execution_count": 70,
     "metadata": {},
     "output_type": "execute_result"
    }
   ],
   "source": [
    "y = dataframe['adverse event']\n",
    "y"
   ]
  },
  {
   "cell_type": "code",
   "execution_count": 71,
   "metadata": {},
   "outputs": [
    {
     "data": {
      "text/html": [
       "<div>\n",
       "<style scoped>\n",
       "    .dataframe tbody tr th:only-of-type {\n",
       "        vertical-align: middle;\n",
       "    }\n",
       "\n",
       "    .dataframe tbody tr th {\n",
       "        vertical-align: top;\n",
       "    }\n",
       "\n",
       "    .dataframe thead th {\n",
       "        text-align: right;\n",
       "    }\n",
       "</style>\n",
       "<table border=\"1\" class=\"dataframe\">\n",
       "  <thead>\n",
       "    <tr style=\"text-align: right;\">\n",
       "      <th></th>\n",
       "      <th>sex_1</th>\n",
       "      <th>sex_2</th>\n",
       "      <th>sex_3</th>\n",
       "      <th>sex_-1</th>\n",
       "      <th>report type_1</th>\n",
       "      <th>report type_2</th>\n",
       "      <th>report type_3</th>\n",
       "      <th>report type_-1</th>\n",
       "      <th>qualification_1</th>\n",
       "      <th>qualification_2</th>\n",
       "      <th>...</th>\n",
       "      <th>reason_for_use_55</th>\n",
       "      <th>reason_for_use_-1</th>\n",
       "      <th>no</th>\n",
       "      <th>reports</th>\n",
       "      <th>age</th>\n",
       "      <th>weight</th>\n",
       "      <th>height</th>\n",
       "      <th>divided_dose_frequency</th>\n",
       "      <th>primary_disease</th>\n",
       "      <th>dosage</th>\n",
       "    </tr>\n",
       "  </thead>\n",
       "  <tbody>\n",
       "    <tr>\n",
       "      <th>640719</th>\n",
       "      <td>0</td>\n",
       "      <td>1</td>\n",
       "      <td>0</td>\n",
       "      <td>0</td>\n",
       "      <td>0</td>\n",
       "      <td>1</td>\n",
       "      <td>0</td>\n",
       "      <td>0</td>\n",
       "      <td>1</td>\n",
       "      <td>0</td>\n",
       "      <td>...</td>\n",
       "      <td>0</td>\n",
       "      <td>0</td>\n",
       "      <td>1</td>\n",
       "      <td>2</td>\n",
       "      <td>50.0</td>\n",
       "      <td>50.0</td>\n",
       "      <td>160.0</td>\n",
       "      <td>1.0</td>\n",
       "      <td>1</td>\n",
       "      <td>125.0</td>\n",
       "    </tr>\n",
       "    <tr>\n",
       "      <th>640720</th>\n",
       "      <td>0</td>\n",
       "      <td>1</td>\n",
       "      <td>0</td>\n",
       "      <td>0</td>\n",
       "      <td>0</td>\n",
       "      <td>1</td>\n",
       "      <td>0</td>\n",
       "      <td>0</td>\n",
       "      <td>1</td>\n",
       "      <td>0</td>\n",
       "      <td>...</td>\n",
       "      <td>0</td>\n",
       "      <td>0</td>\n",
       "      <td>1</td>\n",
       "      <td>2</td>\n",
       "      <td>50.0</td>\n",
       "      <td>50.0</td>\n",
       "      <td>160.0</td>\n",
       "      <td>1.0</td>\n",
       "      <td>0</td>\n",
       "      <td>125.0</td>\n",
       "    </tr>\n",
       "    <tr>\n",
       "      <th>640721</th>\n",
       "      <td>0</td>\n",
       "      <td>1</td>\n",
       "      <td>0</td>\n",
       "      <td>0</td>\n",
       "      <td>0</td>\n",
       "      <td>1</td>\n",
       "      <td>0</td>\n",
       "      <td>0</td>\n",
       "      <td>1</td>\n",
       "      <td>0</td>\n",
       "      <td>...</td>\n",
       "      <td>0</td>\n",
       "      <td>0</td>\n",
       "      <td>1</td>\n",
       "      <td>2</td>\n",
       "      <td>50.0</td>\n",
       "      <td>50.0</td>\n",
       "      <td>160.0</td>\n",
       "      <td>1.0</td>\n",
       "      <td>0</td>\n",
       "      <td>125.0</td>\n",
       "    </tr>\n",
       "    <tr>\n",
       "      <th>640722</th>\n",
       "      <td>0</td>\n",
       "      <td>1</td>\n",
       "      <td>0</td>\n",
       "      <td>0</td>\n",
       "      <td>0</td>\n",
       "      <td>1</td>\n",
       "      <td>0</td>\n",
       "      <td>0</td>\n",
       "      <td>1</td>\n",
       "      <td>0</td>\n",
       "      <td>...</td>\n",
       "      <td>0</td>\n",
       "      <td>0</td>\n",
       "      <td>1</td>\n",
       "      <td>2</td>\n",
       "      <td>50.0</td>\n",
       "      <td>50.0</td>\n",
       "      <td>160.0</td>\n",
       "      <td>1.0</td>\n",
       "      <td>0</td>\n",
       "      <td>97.5</td>\n",
       "    </tr>\n",
       "    <tr>\n",
       "      <th>640723</th>\n",
       "      <td>0</td>\n",
       "      <td>1</td>\n",
       "      <td>0</td>\n",
       "      <td>0</td>\n",
       "      <td>0</td>\n",
       "      <td>1</td>\n",
       "      <td>0</td>\n",
       "      <td>0</td>\n",
       "      <td>1</td>\n",
       "      <td>0</td>\n",
       "      <td>...</td>\n",
       "      <td>0</td>\n",
       "      <td>0</td>\n",
       "      <td>1</td>\n",
       "      <td>2</td>\n",
       "      <td>50.0</td>\n",
       "      <td>50.0</td>\n",
       "      <td>160.0</td>\n",
       "      <td>1.0</td>\n",
       "      <td>0</td>\n",
       "      <td>97.5</td>\n",
       "    </tr>\n",
       "  </tbody>\n",
       "</table>\n",
       "<p>5 rows × 136 columns</p>\n",
       "</div>"
      ],
      "text/plain": [
       "        sex_1  sex_2  sex_3  sex_-1  report type_1  report type_2  \\\n",
       "640719      0      1      0       0              0              1   \n",
       "640720      0      1      0       0              0              1   \n",
       "640721      0      1      0       0              0              1   \n",
       "640722      0      1      0       0              0              1   \n",
       "640723      0      1      0       0              0              1   \n",
       "\n",
       "        report type_3  report type_-1  qualification_1  qualification_2  ...  \\\n",
       "640719              0               0                1                0  ...   \n",
       "640720              0               0                1                0  ...   \n",
       "640721              0               0                1                0  ...   \n",
       "640722              0               0                1                0  ...   \n",
       "640723              0               0                1                0  ...   \n",
       "\n",
       "        reason_for_use_55  reason_for_use_-1  no  reports   age  weight  \\\n",
       "640719                  0                  0   1        2  50.0    50.0   \n",
       "640720                  0                  0   1        2  50.0    50.0   \n",
       "640721                  0                  0   1        2  50.0    50.0   \n",
       "640722                  0                  0   1        2  50.0    50.0   \n",
       "640723                  0                  0   1        2  50.0    50.0   \n",
       "\n",
       "        height  divided_dose_frequency  primary_disease  dosage  \n",
       "640719   160.0                     1.0                1   125.0  \n",
       "640720   160.0                     1.0                0   125.0  \n",
       "640721   160.0                     1.0                0   125.0  \n",
       "640722   160.0                     1.0                0    97.5  \n",
       "640723   160.0                     1.0                0    97.5  \n",
       "\n",
       "[5 rows x 136 columns]"
      ]
     },
     "execution_count": 71,
     "metadata": {},
     "output_type": "execute_result"
    }
   ],
   "source": [
    "X = dataframe.drop('adverse event', axis=1)\n",
    "X.head()"
   ]
  },
  {
   "cell_type": "code",
   "execution_count": 72,
   "metadata": {},
   "outputs": [
    {
     "name": "stderr",
     "output_type": "stream",
     "text": [
      "/Users/takayoshi-endo/.pyenv/versions/3.6.8/lib/python3.6/site-packages/ipykernel_launcher.py:1: DataConversionWarning: Data with input dtype int64, float64 were all converted to float64 by the scale function.\n",
      "  \"\"\"Entry point for launching an IPython kernel.\n"
     ]
    },
    {
     "data": {
      "text/plain": [
       "array([[-1.18162811e+00,  1.18170487e+00,  0.00000000e+00, ...,\n",
       "        -5.62090548e-03, -2.13687118e-01, -1.61032403e-02],\n",
       "       [-1.18162811e+00,  1.18170487e+00,  0.00000000e+00, ...,\n",
       "        -5.62090548e-03, -2.64186425e-01, -1.61032403e-02],\n",
       "       [-1.18162811e+00,  1.18170487e+00,  0.00000000e+00, ...,\n",
       "        -5.62090548e-03, -2.64186425e-01, -1.61032403e-02],\n",
       "       ...,\n",
       "       [ 8.46289957e-01, -8.46234980e-01,  0.00000000e+00, ...,\n",
       "        -5.62090548e-03,  1.05931646e+01, -1.13273795e-01],\n",
       "       [ 8.46289957e-01, -8.46234980e-01,  0.00000000e+00, ...,\n",
       "        -5.62090548e-03,  3.67475951e+00, -1.13273795e-01],\n",
       "       [ 8.46289957e-01, -8.46234980e-01,  0.00000000e+00, ...,\n",
       "        -5.62090548e-03,  8.52269298e+00, -1.13273795e-01]])"
      ]
     },
     "execution_count": 72,
     "metadata": {},
     "output_type": "execute_result"
    }
   ],
   "source": [
    "X = preprocessing.scale(X)\n",
    "X"
   ]
  },
  {
   "cell_type": "code",
   "execution_count": 73,
   "metadata": {},
   "outputs": [
    {
     "data": {
      "text/plain": [
       "1     9574\n",
       "3     6113\n",
       "6     2639\n",
       "9     2613\n",
       "2     2299\n",
       "10    2161\n",
       "5     2130\n",
       "7     1782\n",
       "4     1258\n",
       "8     1083\n",
       "Name: adverse event, dtype: int64"
      ]
     },
     "execution_count": 73,
     "metadata": {},
     "output_type": "execute_result"
    },
    {
     "data": {
      "text/plain": [
       "array([ 1,  2,  3, ..., 10, 10, 10])"
      ]
     },
     "execution_count": 73,
     "metadata": {},
     "output_type": "execute_result"
    }
   ],
   "source": [
    "y.value_counts()\n",
    "y = y.values\n",
    "y"
   ]
  },
  {
   "cell_type": "code",
   "execution_count": 74,
   "metadata": {},
   "outputs": [
    {
     "data": {
      "text/plain": [
       "array([[0., 1., 0., ..., 0., 0., 0.],\n",
       "       [0., 0., 1., ..., 0., 0., 0.],\n",
       "       [0., 0., 0., ..., 0., 0., 0.],\n",
       "       ...,\n",
       "       [0., 0., 0., ..., 0., 0., 1.],\n",
       "       [0., 0., 0., ..., 0., 0., 1.],\n",
       "       [0., 0., 0., ..., 0., 0., 1.]], dtype=float32)"
      ]
     },
     "execution_count": 74,
     "metadata": {},
     "output_type": "execute_result"
    }
   ],
   "source": [
    "num_classes = 11\n",
    "y = tf.keras.utils.to_categorical(y, num_classes)\n",
    "y"
   ]
  },
  {
   "cell_type": "code",
   "execution_count": 75,
   "metadata": {},
   "outputs": [
    {
     "name": "stderr",
     "output_type": "stream",
     "text": [
      "/Users/takayoshi-endo/.pyenv/versions/3.6.8/lib/python3.6/site-packages/sklearn/model_selection/_split.py:2179: FutureWarning: From version 0.21, test_size will always complement train_size unless both are specified.\n",
      "  FutureWarning)\n"
     ]
    }
   ],
   "source": [
    "X_train, X_test, y_train, y_test = train_test_split(X, y, train_size=0.8)"
   ]
  },
  {
   "cell_type": "code",
   "execution_count": 83,
   "metadata": {},
   "outputs": [],
   "source": [
    "def build_multilayer_perceptron():\n",
    "    model = Sequential()\n",
    "    model.add(Dense(32, input_shape=(136,)))\n",
    "    model.add(Activation('relu'))\n",
    "    model.add(Dense(11))\n",
    "    model.add(Activation('softmax'))\n",
    "    return model"
   ]
  },
  {
   "cell_type": "code",
   "execution_count": 84,
   "metadata": {},
   "outputs": [],
   "source": [
    "model = build_multilayer_perceptron()"
   ]
  },
  {
   "cell_type": "code",
   "execution_count": 85,
   "metadata": {},
   "outputs": [],
   "source": [
    "model.compile(\n",
    "    optimizer=Adam(),\n",
    "    loss='categorical_crossentropy',\n",
    "    metrics=['accuracy']\n",
    ")"
   ]
  },
  {
   "cell_type": "code",
   "execution_count": 86,
   "metadata": {},
   "outputs": [
    {
     "data": {
      "text/plain": [
       "((25321, 136), (25321, 11))"
      ]
     },
     "execution_count": 86,
     "metadata": {},
     "output_type": "execute_result"
    }
   ],
   "source": [
    "X_train.shape, y_train.shape"
   ]
  },
  {
   "cell_type": "code",
   "execution_count": 87,
   "metadata": {},
   "outputs": [
    {
     "name": "stdout",
     "output_type": "stream",
     "text": [
      "Train on 22788 samples, validate on 2533 samples\n",
      "Epoch 1/50\n",
      "22788/22788 [==============================] - 33s 1ms/sample - loss: 1.4297 - accuracy: 0.4738 - val_loss: 1.3630 - val_accuracy: 0.4955\n",
      "Epoch 2/50\n",
      "22788/22788 [==============================] - 34s 1ms/sample - loss: 1.3181 - accuracy: 0.5001 - val_loss: 1.3090 - val_accuracy: 0.5041s - los - ETA: 1s - loss: 1.3178 - accuracy - ETA: 1s - loss: 1.3177 - accura - ETA - ETA: 0s - loss: 1.3185 \n",
      "Epoch 3/50\n",
      "22788/22788 [==============================] - 31s 1ms/sample - loss: 1.2788 - accuracy: 0.5086 - val_loss: 1.2879 - val_accuracy: 0.5109\n",
      "Epoch 4/50\n",
      "22788/22788 [==============================] - 31s 1ms/sample - loss: 1.2613 - accuracy: 0.5143 - val_loss: 1.2659 - val_accuracy: 0.5093- loss: 1.2605 - accuracy: 0.51 - ETA: 0s - loss: 1\n",
      "Epoch 5/50\n",
      "22788/22788 [==============================] - 32s 1ms/sample - loss: 1.2442 - accuracy: 0.5213 - val_loss: 1.2722 - val_accuracy: 0.5101\n",
      "Epoch 6/50\n",
      "22788/22788 [==============================] - 32s 1ms/sample - loss: 1.2394 - accuracy: 0.5256 - val_loss: 1.2677 - val_accuracy: 0.5116\n",
      "Epoch 7/50\n",
      "22788/22788 [==============================] - 33s 1ms/sample - loss: 1.2230 - accuracy: 0.5289 - val_loss: 1.2670 - val_accuracy: 0.5251\n",
      "Epoch 8/50\n",
      "22788/22788 [==============================] - 32s 1ms/sample - loss: 1.2136 - accuracy: 0.5323 - val_loss: 1.2550 - val_accuracy: 0.5140\n",
      "Epoch 9/50\n",
      "22788/22788 [==============================] - 33s 1ms/sample - loss: 1.2095 - accuracy: 0.5310 - val_loss: 1.2429 - val_accuracy: 0.5306\n",
      "Epoch 10/50\n",
      "22788/22788 [==============================] - 33s 1ms/sample - loss: 1.2041 - accuracy: 0.5372 - val_loss: 1.2507 - val_accuracy: 0.5148\n",
      "Epoch 11/50\n",
      "22788/22788 [==============================] - 33s 1ms/sample - loss: 1.1975 - accuracy: 0.5334 - val_loss: 1.2320 - val_accuracy: 0.5203\n",
      "Epoch 12/50\n",
      "22788/22788 [==============================] - 35s 2ms/sample - loss: 1.1953 - accuracy: 0.5386 - val_loss: 1.2554 - val_accuracy: 0.5341: 1.1951 - accu\n",
      "Epoch 13/50\n",
      "22788/22788 [==============================] - 37s 2ms/sample - loss: 1.1987 - accuracy: 0.5373 - val_loss: 1.2402 - val_accuracy: 0.5132\n",
      "Epoch 14/50\n",
      "22788/22788 [==============================] - 53s 2ms/sample - loss: 1.1882 - accuracy: 0.5435 - val_loss: 1.2507 - val_accuracy: 0.5365\n",
      "Epoch 15/50\n",
      "22788/22788 [==============================] - 31s 1ms/sample - loss: 1.1900 - accuracy: 0.5397 - val_loss: 1.2281 - val_accuracy: 0.5424\n",
      "Epoch 16/50\n",
      "22788/22788 [==============================] - 32s 1ms/sample - loss: 1.1801 - accuracy: 0.5443 - val_loss: 1.2379 - val_accuracy: 0.5274\n",
      "Epoch 17/50\n",
      "22788/22788 [==============================] - 30s 1ms/sample - loss: 1.1848 - accuracy: 0.5452 - val_loss: 1.2379 - val_accuracy: 0.5373\n",
      "Epoch 18/50\n",
      "22788/22788 [==============================] - 28s 1ms/sample - loss: 1.1800 - accuracy: 0.5450 - val_loss: 1.2145 - val_accuracy: 0.5318\n",
      "Epoch 19/50\n",
      "22788/22788 [==============================] - 28s 1ms/sample - loss: 1.1776 - accuracy: 0.5460 - val_loss: 1.2368 - val_accuracy: 0.5326\n",
      "Epoch 20/50\n",
      "22788/22788 [==============================] - 35s 2ms/sample - loss: 1.1777 - accuracy: 0.5452 - val_loss: 1.2359 - val_accuracy: 0.5326\n",
      "Epoch 21/50\n",
      "22788/22788 [==============================] - 26s 1ms/sample - loss: 1.1775 - accuracy: 0.5429 - val_loss: 1.2209 - val_accuracy: 0.5507\n",
      "Epoch 22/50\n",
      "22788/22788 [==============================] - 26s 1ms/sample - loss: 1.1795 - accuracy: 0.5472 - val_loss: 1.2209 - val_accuracy: 0.5413\n",
      "Epoch 23/50\n",
      "22788/22788 [==============================] - 26s 1ms/sample - loss: 1.1767 - accuracy: 0.5441 - val_loss: 1.2070 - val_accuracy: 0.5436\n",
      "Epoch 24/50\n",
      "22788/22788 [==============================] - 26s 1ms/sample - loss: 1.1690 - accuracy: 0.5450 - val_loss: 1.2230 - val_accuracy: 0.5389\n",
      "Epoch 25/50\n",
      "22788/22788 [==============================] - 27s 1ms/sample - loss: 1.1730 - accuracy: 0.5462 - val_loss: 1.2228 - val_accuracy: 0.5456\n",
      "Epoch 26/50\n",
      "22788/22788 [==============================] - 27s 1ms/sample - loss: 1.1780 - accuracy: 0.5479 - val_loss: 1.2390 - val_accuracy: 0.5349\n",
      "Epoch 27/50\n",
      "22788/22788 [==============================] - 31s 1ms/sample - loss: 1.1747 - accuracy: 0.5459 - val_loss: 1.2362 - val_accuracy: 0.5432\n",
      "Epoch 28/50\n",
      "22788/22788 [==============================] - 23s 1ms/sample - loss: 1.1678 - accuracy: 0.5463 - val_loss: 1.2286 - val_accuracy: 0.5495\n",
      "Epoch 29/50\n",
      "22788/22788 [==============================] - 23s 1ms/sample - loss: 1.1683 - accuracy: 0.5470 - val_loss: 1.2261 - val_accuracy: 0.5519\n",
      "Epoch 30/50\n",
      "22788/22788 [==============================] - 23s 1ms/sample - loss: 1.1719 - accuracy: 0.5508 - val_loss: 1.1980 - val_accuracy: 0.5389\n",
      "Epoch 31/50\n",
      "22788/22788 [==============================] - 23s 1ms/sample - loss: 1.1713 - accuracy: 0.5464 - val_loss: 1.2426 - val_accuracy: 0.5294\n",
      "Epoch 32/50\n",
      "22788/22788 [==============================] - 23s 1ms/sample - loss: 1.1645 - accuracy: 0.5478 - val_loss: 1.2370 - val_accuracy: 0.5472\n",
      "Epoch 33/50\n",
      "22788/22788 [==============================] - 23s 1ms/sample - loss: 1.1629 - accuracy: 0.5486 - val_loss: 1.2327 - val_accuracy: 0.5436\n",
      "Epoch 34/50\n",
      "22788/22788 [==============================] - 23s 1ms/sample - loss: 1.1630 - accuracy: 0.5491 - val_loss: 1.2491 - val_accuracy: 0.5263\n",
      "Epoch 35/50\n",
      "22788/22788 [==============================] - 23s 1ms/sample - loss: 1.1594 - accuracy: 0.5469 - val_loss: 1.2193 - val_accuracy: 0.5460\n",
      "Epoch 36/50\n",
      "22788/22788 [==============================] - 35s 2ms/sample - loss: 1.1605 - accuracy: 0.5505 - val_loss: 1.2353 - val_accuracy: 0.5381\n",
      "Epoch 37/50\n",
      "22788/22788 [==============================] - 24s 1ms/sample - loss: 1.1648 - accuracy: 0.5477 - val_loss: 1.2679 - val_accuracy: 0.5373\n",
      "Epoch 38/50\n",
      "22788/22788 [==============================] - 23s 1ms/sample - loss: 1.1678 - accuracy: 0.5499 - val_loss: 1.2293 - val_accuracy: 0.5468\n",
      "Epoch 39/50\n",
      "22788/22788 [==============================] - 23s 1ms/sample - loss: 1.1588 - accuracy: 0.5504 - val_loss: 1.2447 - val_accuracy: 0.5361\n",
      "Epoch 40/50\n",
      "22788/22788 [==============================] - 23s 1ms/sample - loss: 1.1625 - accuracy: 0.5495 - val_loss: 1.2406 - val_accuracy: 0.5409\n"
     ]
    }
   ],
   "source": [
    "es = EarlyStopping(monitor='val_loss', patience=10)\n",
    "csv_logger = CSVLogger('training.log')\n",
    "hist = model.fit(X_train, y_train,\n",
    "                 batch_size=1,\n",
    "                 epochs=50,\n",
    "                 verbose=1,\n",
    "                 validation_split=0.1,\n",
    "                 callbacks=[es, csv_logger])"
   ]
  },
  {
   "cell_type": "code",
   "execution_count": 89,
   "metadata": {},
   "outputs": [
    {
     "data": {
      "text/plain": [
       "'accuracy'"
      ]
     },
     "execution_count": 89,
     "metadata": {},
     "output_type": "execute_result"
    },
    {
     "data": {
      "text/plain": [
       "55.314040184020996"
      ]
     },
     "execution_count": 89,
     "metadata": {},
     "output_type": "execute_result"
    }
   ],
   "source": [
    "score = model.evaluate(X, y, verbose=0)\n",
    "model.metrics_names[1]\n",
    "score[1] * 100"
   ]
  },
  {
   "cell_type": "code",
   "execution_count": 90,
   "metadata": {},
   "outputs": [
    {
     "data": {
      "text/plain": [
       "[<matplotlib.lines.Line2D at 0x14ed059b0>]"
      ]
     },
     "execution_count": 90,
     "metadata": {},
     "output_type": "execute_result"
    },
    {
     "data": {
      "text/plain": [
       "[<matplotlib.lines.Line2D at 0x146610358>]"
      ]
     },
     "execution_count": 90,
     "metadata": {},
     "output_type": "execute_result"
    },
    {
     "data": {
      "text/plain": [
       "<matplotlib.legend.Legend at 0x14ed05da0>"
      ]
     },
     "execution_count": 90,
     "metadata": {},
     "output_type": "execute_result"
    },
    {
     "data": {
      "text/plain": [
       "Text(0.5, 0, 'epoch')"
      ]
     },
     "execution_count": 90,
     "metadata": {},
     "output_type": "execute_result"
    },
    {
     "data": {
      "text/plain": [
       "Text(0, 0.5, 'acc')"
      ]
     },
     "execution_count": 90,
     "metadata": {},
     "output_type": "execute_result"
    },
    {
     "data": {
      "image/png": "[encoded data removed]",
      "text/plain": [
       "<Figure size 432x288 with 1 Axes>"
      ]
     },
     "metadata": {
      "needs_background": "light"
     },
     "output_type": "display_data"
    }
   ],
   "source": [
    "loss = hist.history['loss']\n",
    "val_loss = hist.history['val_loss']\n",
    "\n",
    "epochs = len(loss)\n",
    "plt.plot(range(epochs), loss, marker='.', label='acc')\n",
    "plt.plot(range(epochs), val_loss, marker='.', label='val_acc')\n",
    "plt.legend(loc='best')\n",
    "plt.grid()\n",
    "plt.xlabel('epoch')\n",
    "plt.ylabel('acc')\n",
    "plt.show()"
   ]
  },
  {
   "cell_type": "code",
   "execution_count": 91,
   "metadata": {},
   "outputs": [
    {
     "name": "stdout",
     "output_type": "stream",
     "text": [
      "dict_keys(['loss', 'accuracy', 'val_loss', 'val_accuracy'])\n"
     ]
    },
    {
     "data": {
      "image/png": "[encoded data removed]",
      "text/plain": [
       "<Figure size 432x288 with 1 Axes>"
      ]
     },
     "metadata": {
      "needs_background": "light"
     },
     "output_type": "display_data"
    },
    {
     "data": {
      "image/png": "[encoded data removed]",
      "text/plain": [
       "<Figure size 432x288 with 1 Axes>"
      ]
     },
     "metadata": {
      "needs_background": "light"
     },
     "output_type": "display_data"
    }
   ],
   "source": [
    "def plot_history(history):\n",
    "    print(history.history.keys())\n",
    "\n",
    "    # 精度の履歴をプロット\n",
    "    plt.plot(history.history['accuracy'])\n",
    "    plt.plot(history.history['val_accuracy'])\n",
    "    plt.title('model accuracy')\n",
    "    plt.xlabel('epoch')\n",
    "    plt.ylabel('accuracy')\n",
    "    plt.legend(['acc', 'val_acc'], loc='lower right')\n",
    "    plt.show()\n",
    "\n",
    "    # 損失の履歴をプロット\n",
    "    plt.plot(history.history['loss'])\n",
    "    plt.plot(history.history['val_loss'])\n",
    "    plt.title('model loss')\n",
    "    plt.xlabel('epoch')\n",
    "    plt.ylabel('loss')\n",
    "    plt.legend(['loss', 'val_loss'], loc='lower right')\n",
    "    plt.show()\n",
    "\n",
    "# 学習履歴をプロット\n",
    "plot_history(hist)"
   ]
  }
 ],
 "metadata": {
  "kernelspec": {
   "display_name": "Python 3",
   "language": "python",
   "name": "python3"
  },
  "language_info": {
   "codemirror_mode": {
    "name": "ipython",
    "version": 3
   },
   "file_extension": ".py",
   "mimetype": "text/x-python",
   "name": "python",
   "nbconvert_exporter": "python",
   "pygments_lexer": "ipython3",
   "version": "3.6.8"
  }
 },
 "nbformat": 4,
 "nbformat_minor": 2
}
