{
 "cells": [
  {
   "cell_type": "code",
   "execution_count": 69,
   "metadata": {},
   "outputs": [],
   "source": [
    "import numpy as np\n",
    "import pandas as pd\n",
    "\n",
    "from IPython.core.interactiveshell import InteractiveShell\n",
    "InteractiveShell.ast_node_interactivity = 'all'\n",
    "\n",
    "%reload_ext autoreload\n",
    "%autoreload 2"
   ]
  },
  {
   "cell_type": "code",
   "execution_count": 70,
   "metadata": {},
   "outputs": [],
   "source": [
    "import tensorflow as tf\n",
    "from tensorflow.keras.layers import Activation, Dense\n",
    "from tensorflow.keras import Sequential\n",
    "from tensorflow.keras.optimizers import SGD"
   ]
  },
  {
   "cell_type": "code",
   "execution_count": 71,
   "metadata": {},
   "outputs": [
    {
     "data": {
      "text/plain": [
       "'2.0.0-dev20190315'"
      ]
     },
     "execution_count": 71,
     "metadata": {},
     "output_type": "execute_result"
    }
   ],
   "source": [
    "tf.__version__"
   ]
  },
  {
   "cell_type": "code",
   "execution_count": 72,
   "metadata": {},
   "outputs": [],
   "source": [
    "from sklearn.utils import shuffle"
   ]
  },
  {
   "cell_type": "code",
   "execution_count": 73,
   "metadata": {},
   "outputs": [],
   "source": [
    "M = 2 # 入力データの次元数\n",
    "K = 3 # クラス数\n",
    "n = 100 # クラスごとのデータ数\n",
    "N = n * K # 全データ数"
   ]
  },
  {
   "cell_type": "code",
   "execution_count": 74,
   "metadata": {},
   "outputs": [
    {
     "data": {
      "text/plain": [
       "(100, 2)"
      ]
     },
     "execution_count": 74,
     "metadata": {},
     "output_type": "execute_result"
    }
   ],
   "source": [
    "X1 = np.random.randn(n, M) +  np.array([0, 10])\n",
    "X2 = np.random.randn(n, M) +  np.array([5, 5])\n",
    "X3 = np.random.randn(n, M) +  np.array([10, 0])\n",
    "X1.shape"
   ]
  },
  {
   "cell_type": "code",
   "execution_count": 75,
   "metadata": {},
   "outputs": [
    {
     "data": {
      "text/plain": [
       "<seaborn.axisgrid.JointGrid at 0x1378fb8d0>"
      ]
     },
     "execution_count": 75,
     "metadata": {},
     "output_type": "execute_result"
    },
    {
     "data": {
      "image/png": "[encoded data removed]",
      "text/plain": [
       "<Figure size 432x432 with 3 Axes>"
      ]
     },
     "metadata": {
      "needs_background": "light"
     },
     "output_type": "display_data"
    }
   ],
   "source": [
    "df = pd.DataFrame(X1, columns=['X', 'Y'])\n",
    "sns.jointplot(x='X', y='Y', data=df)"
   ]
  },
  {
   "cell_type": "code",
   "execution_count": 76,
   "metadata": {},
   "outputs": [
    {
     "data": {
      "text/plain": [
       "(100, 3)"
      ]
     },
     "execution_count": 76,
     "metadata": {},
     "output_type": "execute_result"
    }
   ],
   "source": [
    "Y1 = np.array([[1, 0, 0] for i in range(n)]) \n",
    "Y2 = np.array([[0, 1, 0] for i in range(n)]) \n",
    "Y3 = np.array([[0, 0, 1] for i in range(n)]) \n",
    "Y1.shape"
   ]
  },
  {
   "cell_type": "code",
   "execution_count": 77,
   "metadata": {},
   "outputs": [
    {
     "data": {
      "text/plain": [
       "(300, 2)"
      ]
     },
     "execution_count": 77,
     "metadata": {},
     "output_type": "execute_result"
    },
    {
     "data": {
      "text/plain": [
       "(300, 3)"
      ]
     },
     "execution_count": 77,
     "metadata": {},
     "output_type": "execute_result"
    }
   ],
   "source": [
    "X = np.concatenate((X1, X2, X3), axis=0)\n",
    "Y = np.concatenate((Y1, Y2, Y3), axis=0)\n",
    "X.shape\n",
    "Y.shape"
   ]
  },
  {
   "cell_type": "code",
   "execution_count": 78,
   "metadata": {},
   "outputs": [
    {
     "data": {
      "text/plain": [
       "<seaborn.axisgrid.JointGrid at 0x137a07cc0>"
      ]
     },
     "execution_count": 78,
     "metadata": {},
     "output_type": "execute_result"
    },
    {
     "data": {
      "image/png": "[encoded data removed]",
      "text/plain": [
       "<Figure size 432x432 with 3 Axes>"
      ]
     },
     "metadata": {
      "needs_background": "light"
     },
     "output_type": "display_data"
    }
   ],
   "source": [
    "df = pd.DataFrame(X, columns=['X', 'Y'])\n",
    "sns.jointplot(x='X', y='Y', data=df)"
   ]
  },
  {
   "cell_type": "code",
   "execution_count": 79,
   "metadata": {},
   "outputs": [],
   "source": [
    "batch_size = 50\n",
    "n_batches = N"
   ]
  },
  {
   "cell_type": "code",
   "execution_count": 80,
   "metadata": {},
   "outputs": [
    {
     "data": {
      "text/plain": [
       "<tensorflow.python.keras.engine.sequential.Sequential at 0x13780a358>"
      ]
     },
     "execution_count": 80,
     "metadata": {},
     "output_type": "execute_result"
    }
   ],
   "source": [
    "model = Sequential()\n",
    "model.add(Dense(input_dim=M, units=K))\n",
    "model.add(Activation('softmax'))\n",
    "model"
   ]
  },
  {
   "cell_type": "code",
   "execution_count": 81,
   "metadata": {},
   "outputs": [
    {
     "data": {
      "text/plain": [
       "<tensorflow.python.keras.engine.sequential.Sequential at 0x13780a358>"
      ]
     },
     "execution_count": 81,
     "metadata": {},
     "output_type": "execute_result"
    }
   ],
   "source": [
    "model.compile(\n",
    "    loss=tf.keras.losses.categorical_crossentropy,\n",
    "    optimizer=tf.keras.optimizers.SGD(lr=0.1)\n",
    ")\n",
    "model"
   ]
  },
  {
   "cell_type": "code",
   "execution_count": 82,
   "metadata": {},
   "outputs": [
    {
     "name": "stdout",
     "output_type": "stream",
     "text": [
      "Model: \"sequential_2\"\n",
      "_________________________________________________________________\n",
      "Layer (type)                 Output Shape              Param #   \n",
      "=================================================================\n",
      "dense_2 (Dense)              (None, 3)                 9         \n",
      "_________________________________________________________________\n",
      "activation_2 (Activation)    (None, 3)                 0         \n",
      "=================================================================\n",
      "Total params: 9\n",
      "Trainable params: 9\n",
      "Non-trainable params: 0\n",
      "_________________________________________________________________\n"
     ]
    }
   ],
   "source": [
    "model.summary()"
   ]
  },
  {
   "cell_type": "code",
   "execution_count": 83,
   "metadata": {},
   "outputs": [
    {
     "name": "stdout",
     "output_type": "stream",
     "text": [
      "Epoch 1/20\n",
      "300/300 [==============================] - 0s 228us/sample - loss: 3.8903\n",
      "Epoch 2/20\n",
      "300/300 [==============================] - 0s 30us/sample - loss: 0.2809\n",
      "Epoch 3/20\n",
      "300/300 [==============================] - 0s 39us/sample - loss: 0.1809\n",
      "Epoch 4/20\n",
      "300/300 [==============================] - 0s 40us/sample - loss: 0.1379\n",
      "Epoch 5/20\n",
      "300/300 [==============================] - 0s 53us/sample - loss: 0.1120\n",
      "Epoch 6/20\n",
      "300/300 [==============================] - 0s 53us/sample - loss: 0.0957\n",
      "Epoch 7/20\n",
      "300/300 [==============================] - 0s 51us/sample - loss: 0.0847\n",
      "Epoch 8/20\n",
      "300/300 [==============================] - 0s 50us/sample - loss: 0.0752\n",
      "Epoch 9/20\n",
      "300/300 [==============================] - 0s 42us/sample - loss: 0.0688\n",
      "Epoch 10/20\n",
      "300/300 [==============================] - 0s 46us/sample - loss: 0.0632\n",
      "Epoch 11/20\n",
      "300/300 [==============================] - 0s 50us/sample - loss: 0.0588\n",
      "Epoch 12/20\n",
      "300/300 [==============================] - 0s 43us/sample - loss: 0.0553\n",
      "Epoch 13/20\n",
      "300/300 [==============================] - 0s 38us/sample - loss: 0.0523\n",
      "Epoch 14/20\n",
      "300/300 [==============================] - 0s 46us/sample - loss: 0.0496\n",
      "Epoch 15/20\n",
      "300/300 [==============================] - 0s 58us/sample - loss: 0.0470\n",
      "Epoch 16/20\n",
      "300/300 [==============================] - 0s 51us/sample - loss: 0.0454\n",
      "Epoch 17/20\n",
      "300/300 [==============================] - 0s 48us/sample - loss: 0.0435\n",
      "Epoch 18/20\n",
      "300/300 [==============================] - 0s 49us/sample - loss: 0.0419\n",
      "Epoch 19/20\n",
      "300/300 [==============================] - 0s 56us/sample - loss: 0.0405\n",
      "Epoch 20/20\n",
      "300/300 [==============================] - 0s 43us/sample - loss: 0.0393\n"
     ]
    },
    {
     "data": {
      "text/plain": [
       "<tensorflow.python.keras.callbacks.History at 0x137ab3eb8>"
      ]
     },
     "execution_count": 83,
     "metadata": {},
     "output_type": "execute_result"
    }
   ],
   "source": [
    "model.fit(X, Y, epochs=20, batch_size=batch_size)"
   ]
  },
  {
   "cell_type": "code",
   "execution_count": 84,
   "metadata": {},
   "outputs": [
    {
     "data": {
      "text/plain": [
       "(array([[-3.37063566e-02,  1.09980457e+01],\n",
       "        [ 1.03105935e+01, -6.48267484e-01],\n",
       "        [ 9.55297777e+00, -8.37642290e-01],\n",
       "        [ 6.31583248e+00,  5.91713991e+00],\n",
       "        [ 2.15866171e+00,  1.08254770e+01],\n",
       "        [ 9.58630419e+00,  4.44552126e-02],\n",
       "        [ 2.15381034e+00,  8.68707384e+00],\n",
       "        [ 6.71196972e+00,  3.94990792e+00],\n",
       "        [ 4.89157424e+00,  5.15954266e+00],\n",
       "        [ 4.06788691e+00,  4.12405118e+00],\n",
       "        [ 4.48144599e+00,  5.02829096e+00],\n",
       "        [-1.92631182e+00,  1.12121491e+01],\n",
       "        [-8.06017286e-01,  8.92750322e+00],\n",
       "        [ 4.78776034e+00,  5.78484623e+00],\n",
       "        [ 8.98780421e+00,  4.74846050e-02],\n",
       "        [ 5.44779419e+00,  3.92327773e+00],\n",
       "        [ 4.84018312e+00,  4.73179067e+00],\n",
       "        [ 9.02476637e+00,  7.76228774e-01],\n",
       "        [-4.69647591e-01,  9.91921334e+00],\n",
       "        [ 4.58952906e+00,  6.18044938e+00],\n",
       "        [ 5.89380295e+00,  3.95383648e+00],\n",
       "        [ 1.09926493e+00,  9.77553990e+00],\n",
       "        [ 3.25891386e+00,  8.58433035e+00],\n",
       "        [-4.86257324e-01,  9.55645705e+00],\n",
       "        [ 9.96989024e+00, -1.00087044e+00],\n",
       "        [ 1.04291973e+01,  7.43586437e-01],\n",
       "        [ 7.04481385e+00,  5.72267104e+00],\n",
       "        [ 1.98212418e-01,  9.03741644e+00],\n",
       "        [ 6.39562595e+00,  4.55392585e+00],\n",
       "        [ 5.33015685e+00,  5.69424346e+00],\n",
       "        [-3.07726037e-01,  8.94018213e+00],\n",
       "        [ 1.04695035e+01,  1.44587211e-01],\n",
       "        [-6.09564197e-02,  9.02984816e+00],\n",
       "        [ 5.60270088e+00,  4.88745927e+00],\n",
       "        [ 6.34771982e+00,  4.36670140e+00],\n",
       "        [ 5.41781518e-01,  9.46247260e+00],\n",
       "        [ 4.24864518e+00,  3.84266238e+00],\n",
       "        [ 3.37203444e+00,  5.06764955e+00],\n",
       "        [ 1.13935859e+00,  1.05980063e+01],\n",
       "        [ 5.49466481e+00,  4.70133236e+00],\n",
       "        [ 2.99586547e+00,  5.30194477e+00],\n",
       "        [ 9.84151599e+00,  8.41331863e-01],\n",
       "        [-1.29098708e+00,  9.00502146e+00],\n",
       "        [-7.88472900e-01,  9.62402704e+00],\n",
       "        [ 8.99057140e+00, -1.19049299e+00],\n",
       "        [ 8.57663240e-02,  9.90192051e+00],\n",
       "        [ 1.05266300e-02,  9.67831129e+00],\n",
       "        [ 4.77239733e+00,  6.56116741e+00],\n",
       "        [ 6.08640242e+00,  5.02571942e+00],\n",
       "        [ 4.31789215e-01,  8.40993845e+00],\n",
       "        [ 1.02155637e+01,  2.14176785e+00],\n",
       "        [ 1.21925944e+00,  8.52379198e+00],\n",
       "        [ 5.37102964e+00,  5.75819784e+00],\n",
       "        [ 1.09998753e+01, -8.63040758e-01],\n",
       "        [-2.63382119e-01,  9.96604455e+00],\n",
       "        [-7.75322113e-01,  8.90331827e+00],\n",
       "        [ 9.38965449e+00,  1.70650319e+00],\n",
       "        [-7.06932317e-01,  9.35928829e+00],\n",
       "        [ 4.31837942e+00,  4.06401283e+00],\n",
       "        [-1.55410324e+00,  8.56567155e+00],\n",
       "        [ 4.13138357e-01,  9.67916888e+00],\n",
       "        [ 8.27300217e-01,  8.24882049e+00],\n",
       "        [ 5.39448912e-02,  9.31398863e+00],\n",
       "        [ 2.99941640e+00,  3.35385248e+00],\n",
       "        [-7.55665127e-01,  1.03028793e+01],\n",
       "        [ 5.45924276e-01,  9.93184806e+00],\n",
       "        [ 5.35236787e+00,  5.52929762e+00],\n",
       "        [ 5.55425569e+00,  2.93134890e+00],\n",
       "        [ 9.36893669e+00,  1.18392217e+00],\n",
       "        [ 6.27060618e+00,  5.65800029e+00],\n",
       "        [-2.96759170e-01,  1.08778774e+01],\n",
       "        [-6.88962327e-01,  1.01308535e+01],\n",
       "        [ 8.34307381e-01,  1.15686682e+01],\n",
       "        [ 6.32089508e-01,  1.16185896e+01],\n",
       "        [ 6.05311497e+00,  5.32822393e+00],\n",
       "        [ 6.10421560e+00,  3.22269860e+00],\n",
       "        [ 4.17908242e+00,  5.65386268e+00],\n",
       "        [ 1.09838467e+00,  9.31447059e+00],\n",
       "        [-1.00331996e+00,  9.45485227e+00],\n",
       "        [ 1.44912458e+00,  9.01400078e+00],\n",
       "        [ 4.96868902e-01,  1.07833790e+01],\n",
       "        [ 9.82013243e+00,  1.57660400e+00],\n",
       "        [ 1.12134956e+00,  1.01791145e+01],\n",
       "        [ 3.22926866e-01,  1.03149991e+01],\n",
       "        [ 4.66179010e+00,  5.73391130e+00],\n",
       "        [ 9.51490943e+00, -4.44952910e-01],\n",
       "        [ 9.77234719e+00,  5.45014512e-02],\n",
       "        [ 1.01938270e+01, -1.19602979e+00],\n",
       "        [ 3.61763038e+00,  4.86584951e+00],\n",
       "        [ 3.72203252e-01,  9.55952565e+00],\n",
       "        [ 4.40230602e+00,  4.44852074e+00],\n",
       "        [ 1.16140008e+01,  7.32153204e-01],\n",
       "        [ 4.83112126e+00,  4.39196104e+00],\n",
       "        [ 4.82720657e+00,  5.47903197e+00],\n",
       "        [ 4.88900042e+00,  5.68957352e+00],\n",
       "        [ 3.70719441e-01,  1.19789104e+01],\n",
       "        [ 6.00453855e+00,  5.86169349e+00],\n",
       "        [ 1.26209193e+01,  8.94248898e-01],\n",
       "        [ 3.40288572e-01,  9.66988284e+00],\n",
       "        [-6.20253921e-01,  1.01526659e+01],\n",
       "        [ 6.29703268e+00,  5.62682512e+00],\n",
       "        [ 2.59128394e-01,  9.91234128e+00],\n",
       "        [ 4.46072612e+00,  5.25689026e+00],\n",
       "        [ 1.08961348e+01, -1.04263243e+00],\n",
       "        [ 1.00700150e+01, -9.93010041e-01],\n",
       "        [ 8.28808325e+00, -1.68858648e+00],\n",
       "        [ 1.05371941e+01, -6.74737870e-01],\n",
       "        [-5.85667713e-01,  1.05438546e+01],\n",
       "        [ 1.06912617e+01,  2.46414222e+00],\n",
       "        [ 1.10194803e+01, -1.63814753e+00],\n",
       "        [ 5.75905513e+00,  4.23330743e+00],\n",
       "        [ 1.14604975e+01,  5.13390219e-01],\n",
       "        [ 1.30333704e+00,  9.83255609e+00],\n",
       "        [ 1.20530382e+01,  7.31636789e-01],\n",
       "        [ 6.02573586e+00,  5.11031411e+00],\n",
       "        [ 5.18987862e-01,  1.10008833e+01],\n",
       "        [ 5.16460295e+00,  6.13262808e+00],\n",
       "        [-1.53869023e+00,  9.35585317e+00],\n",
       "        [ 5.89434905e+00,  4.69692711e+00],\n",
       "        [ 4.54050720e+00,  4.63300441e+00],\n",
       "        [ 5.27654312e+00,  4.76672289e+00],\n",
       "        [ 9.11742118e+00,  1.15666653e+00],\n",
       "        [ 5.12884205e+00,  6.52868130e+00],\n",
       "        [ 1.08348307e+00,  1.00843979e+01],\n",
       "        [ 3.77921512e-01,  9.41783569e+00],\n",
       "        [ 9.30339515e+00, -8.82168324e-01],\n",
       "        [ 6.81760980e+00,  5.23522681e+00],\n",
       "        [ 3.89984225e+00,  3.94800335e+00],\n",
       "        [ 3.48169783e+00,  4.33576419e+00],\n",
       "        [ 9.12871449e+00, -1.55059126e-01],\n",
       "        [ 9.92769725e+00, -2.31571916e+00],\n",
       "        [ 4.03954516e+00,  4.13255639e+00],\n",
       "        [ 4.94903067e+00,  4.41362221e+00],\n",
       "        [ 1.01077115e+01,  3.90062002e-01],\n",
       "        [ 1.28197234e+00,  1.01930468e+01],\n",
       "        [ 3.54503115e+00,  4.29545517e+00],\n",
       "        [ 1.12001784e+01,  1.02217051e+00],\n",
       "        [ 4.63042066e+00,  5.99325661e+00],\n",
       "        [ 9.24932087e+00,  3.25210897e-01],\n",
       "        [ 3.69121665e+00,  4.02604670e+00],\n",
       "        [ 6.88589591e-01,  1.08759092e+01],\n",
       "        [ 4.56242754e+00,  4.55776871e+00],\n",
       "        [ 1.13653981e+01, -4.48057157e-01],\n",
       "        [-2.19583044e+00,  1.06984369e+01],\n",
       "        [ 1.05004434e+01,  8.45313755e-01],\n",
       "        [ 9.59293729e+00, -6.59585376e-02],\n",
       "        [ 5.34215558e+00,  6.93595329e+00],\n",
       "        [ 8.12280809e+00,  9.22881105e-01],\n",
       "        [-1.59752124e+00,  1.18026372e+01],\n",
       "        [ 2.82565487e-01,  8.24754191e+00],\n",
       "        [ 6.65565685e+00,  6.49509123e+00],\n",
       "        [-1.26110391e+00,  9.16235408e+00],\n",
       "        [-3.02998751e+00,  9.10285611e+00],\n",
       "        [ 1.17190911e+01, -3.19030857e-01],\n",
       "        [ 1.03322565e+00,  1.00424276e+01],\n",
       "        [ 5.61079711e+00,  5.59425082e+00],\n",
       "        [ 2.42603787e+00,  1.00877620e+01],\n",
       "        [ 5.22077436e-01,  1.08333595e+01],\n",
       "        [ 5.40668149e+00,  4.72279697e+00],\n",
       "        [-3.50500100e-01,  1.21684340e+01],\n",
       "        [ 3.84145479e+00,  4.40280666e+00],\n",
       "        [ 1.07855056e+01, -1.19813076e+00],\n",
       "        [ 6.92110639e+00,  5.51487431e+00],\n",
       "        [ 5.31747221e+00,  5.26897626e+00],\n",
       "        [ 1.02126001e+01, -1.21529799e+00],\n",
       "        [-4.90117344e-01,  1.08048591e+01],\n",
       "        [ 5.82095668e+00,  4.87580718e+00],\n",
       "        [ 9.46093815e+00, -4.86571592e-01],\n",
       "        [ 9.13762302e+00, -1.26108332e+00],\n",
       "        [ 4.89965409e+00,  3.00716626e+00],\n",
       "        [ 9.21881691e+00, -9.42281478e-01],\n",
       "        [ 9.81517429e+00,  1.04113147e+00],\n",
       "        [ 9.32244184e+00,  1.68452498e-01],\n",
       "        [-3.90636285e-01,  7.88539115e+00],\n",
       "        [-1.38301394e+00,  1.02541788e+01],\n",
       "        [ 1.13127325e+01,  4.11171066e-01],\n",
       "        [ 5.71915748e+00,  5.66333615e+00],\n",
       "        [ 7.94130174e+00, -1.49992948e+00],\n",
       "        [ 2.66156355e-02,  9.58124584e+00],\n",
       "        [ 1.78023135e+00,  9.77847674e+00],\n",
       "        [ 4.24959332e+00,  7.51760780e+00],\n",
       "        [-3.47015846e-01,  9.79606582e+00],\n",
       "        [ 1.42032440e+00,  8.64203918e+00],\n",
       "        [ 1.20304860e+00,  1.06734868e+01],\n",
       "        [ 1.12337419e+01,  2.07477991e+00],\n",
       "        [ 1.07307889e+01, -8.81739518e-02],\n",
       "        [-3.49308804e-01,  1.08226108e+01],\n",
       "        [ 1.01805878e+01,  8.02624851e-01],\n",
       "        [ 6.80181440e+00,  5.52448157e+00],\n",
       "        [-1.20245198e+00,  9.36097041e+00],\n",
       "        [ 9.70239218e+00, -1.44162596e+00],\n",
       "        [ 2.63275879e+00,  5.15273487e+00],\n",
       "        [ 1.08852091e+01, -6.13989841e-03],\n",
       "        [ 1.06031363e+01, -3.13184713e-01],\n",
       "        [ 9.56897114e+00, -2.65541805e-01],\n",
       "        [ 9.66200340e-01,  1.15249722e+01],\n",
       "        [ 1.11096649e+01, -1.07823738e-01],\n",
       "        [ 3.74066814e+00,  2.85778861e+00],\n",
       "        [-2.41243075e+00,  1.03955419e+01],\n",
       "        [ 3.94364358e+00,  5.30125875e+00],\n",
       "        [-4.26051960e-01,  1.04938763e+01],\n",
       "        [ 3.09162602e-01,  1.02614592e+01],\n",
       "        [-1.45826564e+00,  1.07481488e+01],\n",
       "        [ 3.93178074e+00,  4.38000301e+00],\n",
       "        [ 1.12219519e+01,  8.21994564e-01],\n",
       "        [ 8.66739808e+00,  3.06921273e+00],\n",
       "        [ 1.11502172e+01, -7.32878333e-01],\n",
       "        [ 5.51363797e-01,  1.05833850e+01],\n",
       "        [ 9.93555826e+00,  1.19591355e+00],\n",
       "        [-1.00630723e+00,  9.04987050e+00],\n",
       "        [ 4.36671784e+00,  6.28878267e+00],\n",
       "        [ 3.21033112e+00,  5.54110294e+00],\n",
       "        [ 9.59590850e+00, -1.65892508e-01],\n",
       "        [ 5.62267491e+00,  4.45177265e+00],\n",
       "        [-5.08227249e-01,  1.03822717e+01],\n",
       "        [ 9.34716249e+00,  1.30321764e+00],\n",
       "        [ 3.85734659e+00,  5.06131993e+00],\n",
       "        [ 9.42063249e+00, -2.91971467e-02],\n",
       "        [ 9.68605837e+00, -1.01632964e-01],\n",
       "        [ 1.12345065e+01,  6.26514152e-01],\n",
       "        [ 4.68275327e+00,  4.84743104e+00],\n",
       "        [-2.68682483e-01,  1.25881311e+01],\n",
       "        [ 4.66396728e+00,  6.41822463e+00],\n",
       "        [ 1.06925077e+01, -1.63407255e+00],\n",
       "        [-4.81945304e-01,  1.16390823e+01],\n",
       "        [ 3.81206773e+00,  4.24901442e+00],\n",
       "        [ 4.56505656e+00,  4.28896410e+00],\n",
       "        [ 1.02534872e+01, -1.46415799e-02],\n",
       "        [ 8.85406822e+00, -9.30227134e-01],\n",
       "        [ 3.93453343e+00,  5.62432884e+00],\n",
       "        [ 9.35606391e+00,  6.27948820e-01],\n",
       "        [ 1.09330492e+01,  8.05551270e-01],\n",
       "        [ 1.01979112e+01, -2.77440360e-01],\n",
       "        [ 4.91015563e+00,  5.35809064e+00],\n",
       "        [ 5.89516227e-02,  9.13714068e+00],\n",
       "        [-1.15203826e+00,  1.03961344e+01],\n",
       "        [-1.77134277e+00,  1.05370382e+01],\n",
       "        [ 4.69959328e+00,  5.44046122e+00],\n",
       "        [ 1.05221314e+01, -1.36882257e-01],\n",
       "        [ 1.06138873e+01, -1.53727446e+00],\n",
       "        [ 9.93878039e+00, -2.81709609e-01],\n",
       "        [-3.57940087e-01,  8.94909992e+00],\n",
       "        [ 1.14045213e+01, -1.23930630e+00],\n",
       "        [ 8.25550099e+00,  6.24326858e-01],\n",
       "        [ 8.28408969e+00,  3.64516167e-01],\n",
       "        [ 6.13272641e+00,  3.66741791e+00],\n",
       "        [ 9.99314529e+00, -1.64138155e+00],\n",
       "        [ 5.83234507e+00,  4.89788395e+00],\n",
       "        [ 4.42495723e+00,  6.04970494e+00],\n",
       "        [ 5.44706074e+00,  5.15387669e+00],\n",
       "        [-4.41252037e-01,  9.61957125e+00],\n",
       "        [ 2.64293564e+00,  5.31027360e+00],\n",
       "        [ 1.05456799e+01, -5.12428659e-02],\n",
       "        [ 1.07857120e+00,  1.01574905e+01],\n",
       "        [ 1.21808488e+01,  1.24265398e+00],\n",
       "        [ 4.04565498e+00,  3.82844000e+00],\n",
       "        [ 1.14284876e+01, -7.66803318e-01],\n",
       "        [ 8.79438201e+00,  2.62204016e-01],\n",
       "        [ 9.33025926e+00,  2.79867780e-01],\n",
       "        [ 9.73204247e-02,  9.48734918e+00],\n",
       "        [-7.05244620e-01,  9.75264239e+00],\n",
       "        [ 4.06590423e+00,  4.10869739e+00],\n",
       "        [ 1.03355392e+01,  1.03822214e+00],\n",
       "        [ 2.08063878e-02,  1.08634946e+01],\n",
       "        [ 8.85075523e+00, -2.27717658e-01],\n",
       "        [ 5.72781043e+00,  4.09489279e+00],\n",
       "        [ 1.06418491e+01,  8.50124934e-01],\n",
       "        [ 2.54477376e-01,  8.84347147e+00],\n",
       "        [-8.65221114e-01,  8.60065998e+00],\n",
       "        [-4.23763841e-01,  1.01259790e+01],\n",
       "        [-4.05274806e-02,  9.69583928e+00],\n",
       "        [ 7.80512913e-01,  1.17386525e+01],\n",
       "        [ 3.38439322e+00,  6.63823186e+00],\n",
       "        [ 1.08028996e+01, -9.27632147e-01],\n",
       "        [ 9.77343811e+00, -8.47172876e-01],\n",
       "        [ 9.94517520e+00,  3.88567550e-01],\n",
       "        [ 4.86132702e+00,  4.46525017e+00],\n",
       "        [ 7.83394132e-01,  1.07859576e+01],\n",
       "        [ 4.12114438e+00,  4.73747130e+00],\n",
       "        [ 1.01292410e+01, -1.83750609e-01],\n",
       "        [ 1.00129390e+01, -3.14590674e-01],\n",
       "        [ 8.53776298e+00,  5.71991622e-01],\n",
       "        [ 3.04082439e+00,  5.55715776e+00],\n",
       "        [ 4.66725416e+00,  6.66862093e+00],\n",
       "        [ 4.72705326e+00,  5.77030562e+00],\n",
       "        [ 1.14801571e+00,  1.19161065e+01],\n",
       "        [ 1.00808731e+01,  7.07055664e-01],\n",
       "        [ 5.93033399e+00,  5.93166131e+00],\n",
       "        [ 8.65759437e+00,  1.34360439e-01],\n",
       "        [ 9.55900894e+00,  1.72946889e+00],\n",
       "        [ 1.09372882e+01,  1.98798881e-01],\n",
       "        [ 8.90800655e+00,  8.32536967e-01],\n",
       "        [ 1.08060254e-01,  8.86399274e+00],\n",
       "        [ 8.30064070e-01,  9.99278319e+00],\n",
       "        [ 4.54706132e-01,  8.83073426e+00],\n",
       "        [ 7.12847091e+00,  4.71845526e+00],\n",
       "        [ 3.08971477e+00,  6.01585845e+00],\n",
       "        [ 1.04407607e+01,  8.12188583e-01],\n",
       "        [ 4.98701473e+00,  2.03063086e+00],\n",
       "        [ 1.05295404e+01, -1.16022199e+00]]), array([[1, 0, 0],\n",
       "        [0, 0, 1],\n",
       "        [0, 0, 1],\n",
       "        [0, 1, 0],\n",
       "        [1, 0, 0],\n",
       "        [0, 0, 1],\n",
       "        [1, 0, 0],\n",
       "        [0, 1, 0],\n",
       "        [0, 1, 0],\n",
       "        [0, 1, 0],\n",
       "        [0, 1, 0],\n",
       "        [1, 0, 0],\n",
       "        [1, 0, 0],\n",
       "        [0, 1, 0],\n",
       "        [0, 0, 1],\n",
       "        [0, 1, 0],\n",
       "        [0, 1, 0],\n",
       "        [0, 0, 1],\n",
       "        [1, 0, 0],\n",
       "        [0, 1, 0],\n",
       "        [0, 1, 0],\n",
       "        [1, 0, 0],\n",
       "        [1, 0, 0],\n",
       "        [1, 0, 0],\n",
       "        [0, 0, 1],\n",
       "        [0, 0, 1],\n",
       "        [0, 1, 0],\n",
       "        [1, 0, 0],\n",
       "        [0, 1, 0],\n",
       "        [0, 1, 0],\n",
       "        [1, 0, 0],\n",
       "        [0, 0, 1],\n",
       "        [1, 0, 0],\n",
       "        [0, 1, 0],\n",
       "        [0, 1, 0],\n",
       "        [1, 0, 0],\n",
       "        [0, 1, 0],\n",
       "        [0, 1, 0],\n",
       "        [1, 0, 0],\n",
       "        [0, 1, 0],\n",
       "        [0, 1, 0],\n",
       "        [0, 0, 1],\n",
       "        [1, 0, 0],\n",
       "        [1, 0, 0],\n",
       "        [0, 0, 1],\n",
       "        [1, 0, 0],\n",
       "        [1, 0, 0],\n",
       "        [0, 1, 0],\n",
       "        [0, 1, 0],\n",
       "        [1, 0, 0],\n",
       "        [0, 0, 1],\n",
       "        [1, 0, 0],\n",
       "        [0, 1, 0],\n",
       "        [0, 0, 1],\n",
       "        [1, 0, 0],\n",
       "        [1, 0, 0],\n",
       "        [0, 0, 1],\n",
       "        [1, 0, 0],\n",
       "        [0, 1, 0],\n",
       "        [1, 0, 0],\n",
       "        [1, 0, 0],\n",
       "        [1, 0, 0],\n",
       "        [1, 0, 0],\n",
       "        [0, 1, 0],\n",
       "        [1, 0, 0],\n",
       "        [1, 0, 0],\n",
       "        [0, 1, 0],\n",
       "        [0, 1, 0],\n",
       "        [0, 0, 1],\n",
       "        [0, 1, 0],\n",
       "        [1, 0, 0],\n",
       "        [1, 0, 0],\n",
       "        [1, 0, 0],\n",
       "        [1, 0, 0],\n",
       "        [0, 1, 0],\n",
       "        [0, 1, 0],\n",
       "        [0, 1, 0],\n",
       "        [1, 0, 0],\n",
       "        [1, 0, 0],\n",
       "        [1, 0, 0],\n",
       "        [1, 0, 0],\n",
       "        [0, 0, 1],\n",
       "        [1, 0, 0],\n",
       "        [1, 0, 0],\n",
       "        [0, 1, 0],\n",
       "        [0, 0, 1],\n",
       "        [0, 0, 1],\n",
       "        [0, 0, 1],\n",
       "        [0, 1, 0],\n",
       "        [1, 0, 0],\n",
       "        [0, 1, 0],\n",
       "        [0, 0, 1],\n",
       "        [0, 1, 0],\n",
       "        [0, 1, 0],\n",
       "        [0, 1, 0],\n",
       "        [1, 0, 0],\n",
       "        [0, 1, 0],\n",
       "        [0, 0, 1],\n",
       "        [1, 0, 0],\n",
       "        [1, 0, 0],\n",
       "        [0, 1, 0],\n",
       "        [1, 0, 0],\n",
       "        [0, 1, 0],\n",
       "        [0, 0, 1],\n",
       "        [0, 0, 1],\n",
       "        [0, 0, 1],\n",
       "        [0, 0, 1],\n",
       "        [1, 0, 0],\n",
       "        [0, 0, 1],\n",
       "        [0, 0, 1],\n",
       "        [0, 1, 0],\n",
       "        [0, 0, 1],\n",
       "        [1, 0, 0],\n",
       "        [0, 0, 1],\n",
       "        [0, 1, 0],\n",
       "        [1, 0, 0],\n",
       "        [0, 1, 0],\n",
       "        [1, 0, 0],\n",
       "        [0, 1, 0],\n",
       "        [0, 1, 0],\n",
       "        [0, 1, 0],\n",
       "        [0, 0, 1],\n",
       "        [0, 1, 0],\n",
       "        [1, 0, 0],\n",
       "        [1, 0, 0],\n",
       "        [0, 0, 1],\n",
       "        [0, 1, 0],\n",
       "        [0, 1, 0],\n",
       "        [0, 1, 0],\n",
       "        [0, 0, 1],\n",
       "        [0, 0, 1],\n",
       "        [0, 1, 0],\n",
       "        [0, 1, 0],\n",
       "        [0, 0, 1],\n",
       "        [1, 0, 0],\n",
       "        [0, 1, 0],\n",
       "        [0, 0, 1],\n",
       "        [0, 1, 0],\n",
       "        [0, 0, 1],\n",
       "        [0, 1, 0],\n",
       "        [1, 0, 0],\n",
       "        [0, 1, 0],\n",
       "        [0, 0, 1],\n",
       "        [1, 0, 0],\n",
       "        [0, 0, 1],\n",
       "        [0, 0, 1],\n",
       "        [0, 1, 0],\n",
       "        [0, 0, 1],\n",
       "        [1, 0, 0],\n",
       "        [1, 0, 0],\n",
       "        [0, 1, 0],\n",
       "        [1, 0, 0],\n",
       "        [1, 0, 0],\n",
       "        [0, 0, 1],\n",
       "        [1, 0, 0],\n",
       "        [0, 1, 0],\n",
       "        [1, 0, 0],\n",
       "        [1, 0, 0],\n",
       "        [0, 1, 0],\n",
       "        [1, 0, 0],\n",
       "        [0, 1, 0],\n",
       "        [0, 0, 1],\n",
       "        [0, 1, 0],\n",
       "        [0, 1, 0],\n",
       "        [0, 0, 1],\n",
       "        [1, 0, 0],\n",
       "        [0, 1, 0],\n",
       "        [0, 0, 1],\n",
       "        [0, 0, 1],\n",
       "        [0, 1, 0],\n",
       "        [0, 0, 1],\n",
       "        [0, 0, 1],\n",
       "        [0, 0, 1],\n",
       "        [1, 0, 0],\n",
       "        [1, 0, 0],\n",
       "        [0, 0, 1],\n",
       "        [0, 1, 0],\n",
       "        [0, 0, 1],\n",
       "        [1, 0, 0],\n",
       "        [1, 0, 0],\n",
       "        [0, 1, 0],\n",
       "        [1, 0, 0],\n",
       "        [1, 0, 0],\n",
       "        [1, 0, 0],\n",
       "        [0, 0, 1],\n",
       "        [0, 0, 1],\n",
       "        [1, 0, 0],\n",
       "        [0, 0, 1],\n",
       "        [0, 1, 0],\n",
       "        [1, 0, 0],\n",
       "        [0, 0, 1],\n",
       "        [0, 1, 0],\n",
       "        [0, 0, 1],\n",
       "        [0, 0, 1],\n",
       "        [0, 0, 1],\n",
       "        [1, 0, 0],\n",
       "        [0, 0, 1],\n",
       "        [0, 1, 0],\n",
       "        [1, 0, 0],\n",
       "        [0, 1, 0],\n",
       "        [1, 0, 0],\n",
       "        [1, 0, 0],\n",
       "        [1, 0, 0],\n",
       "        [0, 1, 0],\n",
       "        [0, 0, 1],\n",
       "        [0, 0, 1],\n",
       "        [0, 0, 1],\n",
       "        [1, 0, 0],\n",
       "        [0, 0, 1],\n",
       "        [1, 0, 0],\n",
       "        [0, 1, 0],\n",
       "        [0, 1, 0],\n",
       "        [0, 0, 1],\n",
       "        [0, 1, 0],\n",
       "        [1, 0, 0],\n",
       "        [0, 0, 1],\n",
       "        [0, 1, 0],\n",
       "        [0, 0, 1],\n",
       "        [0, 0, 1],\n",
       "        [0, 0, 1],\n",
       "        [0, 1, 0],\n",
       "        [1, 0, 0],\n",
       "        [0, 1, 0],\n",
       "        [0, 0, 1],\n",
       "        [1, 0, 0],\n",
       "        [0, 1, 0],\n",
       "        [0, 1, 0],\n",
       "        [0, 0, 1],\n",
       "        [0, 0, 1],\n",
       "        [0, 1, 0],\n",
       "        [0, 0, 1],\n",
       "        [0, 0, 1],\n",
       "        [0, 0, 1],\n",
       "        [0, 1, 0],\n",
       "        [1, 0, 0],\n",
       "        [1, 0, 0],\n",
       "        [1, 0, 0],\n",
       "        [0, 1, 0],\n",
       "        [0, 0, 1],\n",
       "        [0, 0, 1],\n",
       "        [0, 0, 1],\n",
       "        [1, 0, 0],\n",
       "        [0, 0, 1],\n",
       "        [0, 0, 1],\n",
       "        [0, 0, 1],\n",
       "        [0, 1, 0],\n",
       "        [0, 0, 1],\n",
       "        [0, 1, 0],\n",
       "        [0, 1, 0],\n",
       "        [0, 1, 0],\n",
       "        [1, 0, 0],\n",
       "        [0, 1, 0],\n",
       "        [0, 0, 1],\n",
       "        [1, 0, 0],\n",
       "        [0, 0, 1],\n",
       "        [0, 1, 0],\n",
       "        [0, 0, 1],\n",
       "        [0, 0, 1],\n",
       "        [0, 0, 1],\n",
       "        [1, 0, 0],\n",
       "        [1, 0, 0],\n",
       "        [0, 1, 0],\n",
       "        [0, 0, 1],\n",
       "        [1, 0, 0],\n",
       "        [0, 0, 1],\n",
       "        [0, 1, 0],\n",
       "        [0, 0, 1],\n",
       "        [1, 0, 0],\n",
       "        [1, 0, 0],\n",
       "        [1, 0, 0],\n",
       "        [1, 0, 0],\n",
       "        [1, 0, 0],\n",
       "        [0, 1, 0],\n",
       "        [0, 0, 1],\n",
       "        [0, 0, 1],\n",
       "        [0, 0, 1],\n",
       "        [0, 1, 0],\n",
       "        [1, 0, 0],\n",
       "        [0, 1, 0],\n",
       "        [0, 0, 1],\n",
       "        [0, 0, 1],\n",
       "        [0, 0, 1],\n",
       "        [0, 1, 0],\n",
       "        [0, 1, 0],\n",
       "        [0, 1, 0],\n",
       "        [1, 0, 0],\n",
       "        [0, 0, 1],\n",
       "        [0, 1, 0],\n",
       "        [0, 0, 1],\n",
       "        [0, 0, 1],\n",
       "        [0, 0, 1],\n",
       "        [0, 0, 1],\n",
       "        [1, 0, 0],\n",
       "        [1, 0, 0],\n",
       "        [1, 0, 0],\n",
       "        [0, 1, 0],\n",
       "        [0, 1, 0],\n",
       "        [0, 0, 1],\n",
       "        [0, 1, 0],\n",
       "        [0, 0, 1]]))"
      ]
     },
     "execution_count": 84,
     "metadata": {},
     "output_type": "execute_result"
    }
   ],
   "source": [
    "X_, Y_ = shuffle(X, Y)\n",
    "X_, Y_"
   ]
  },
  {
   "cell_type": "code",
   "execution_count": 85,
   "metadata": {},
   "outputs": [
    {
     "data": {
      "text/plain": [
       "array([0, 2, 2, 1, 0, 2, 0, 1, 1, 1])"
      ]
     },
     "execution_count": 85,
     "metadata": {},
     "output_type": "execute_result"
    }
   ],
   "source": [
    "classes = model.predict_classes(X_[0:10], batch_size=batch_size)\n",
    "classes"
   ]
  },
  {
   "cell_type": "code",
   "execution_count": 86,
   "metadata": {},
   "outputs": [
    {
     "data": {
      "text/plain": [
       "(10, 3)"
      ]
     },
     "execution_count": 86,
     "metadata": {},
     "output_type": "execute_result"
    },
    {
     "data": {
      "text/plain": [
       "array([[9.95873153e-01, 4.12683422e-03, 1.38559919e-09],\n",
       "       [1.08634879e-09, 2.58085015e-03, 9.97419119e-01],\n",
       "       [3.21245164e-09, 2.99285026e-03, 9.97007191e-01],\n",
       "       [2.93660257e-03, 9.89217758e-01, 7.84555729e-03],\n",
       "       [9.17078495e-01, 8.29213709e-02, 1.11050596e-07],\n",
       "       [1.52221524e-08, 9.39040259e-03, 9.90609586e-01],\n",
       "       [7.85867453e-01, 2.14127615e-01, 4.84785096e-06],\n",
       "       [5.49794873e-04, 8.82872343e-01, 1.16577826e-01],\n",
       "       [1.36750164e-02, 9.76359248e-01, 9.96579323e-03],\n",
       "       [2.39688419e-02, 9.51261342e-01, 2.47697365e-02]], dtype=float32)"
      ]
     },
     "execution_count": 86,
     "metadata": {},
     "output_type": "execute_result"
    }
   ],
   "source": [
    "prod = model.predict_proba(X_[0:10], batch_size=1)\n",
    "prod.shape\n",
    "prod"
   ]
  }
 ],
 "metadata": {
  "kernelspec": {
   "display_name": "Python 3",
   "language": "python",
   "name": "python3"
  },
  "language_info": {
   "codemirror_mode": {
    "name": "ipython",
    "version": 3
   },
   "file_extension": ".py",
   "mimetype": "text/x-python",
   "name": "python",
   "nbconvert_exporter": "python",
   "pygments_lexer": "ipython3",
   "version": "3.6.8"
  }
 },
 "nbformat": 4,
 "nbformat_minor": 2
}
