{
 "cells": [
  {
   "cell_type": "code",
   "execution_count": 14,
   "metadata": {},
   "outputs": [],
   "source": [
    "import numpy as np\n",
    "import pandas as pd\n",
    "\n",
    "from IPython.core.interactiveshell import InteractiveShell\n",
    "InteractiveShell.ast_node_interactivity = 'all'\n",
    "\n",
    "%reload_ext autoreload\n",
    "%autoreload 2"
   ]
  },
  {
   "cell_type": "code",
   "execution_count": 15,
   "metadata": {},
   "outputs": [],
   "source": [
    "import tensorflow as tf\n",
    "from tensorflow.keras.layers import Activation, Dense\n",
    "from tensorflow.keras import Sequential\n",
    "from tensorflow.keras.optimizers import SGD"
   ]
  },
  {
   "cell_type": "code",
   "execution_count": 16,
   "metadata": {},
   "outputs": [
    {
     "data": {
      "text/plain": [
       "'2.0.0-dev20190315'"
      ]
     },
     "execution_count": 16,
     "metadata": {},
     "output_type": "execute_result"
    }
   ],
   "source": [
    "tf.__version__"
   ]
  },
  {
   "cell_type": "code",
   "execution_count": 19,
   "metadata": {},
   "outputs": [
    {
     "data": {
      "text/plain": [
       "<tensorflow.python.keras.engine.sequential.Sequential at 0x12b54b550>"
      ]
     },
     "execution_count": 19,
     "metadata": {},
     "output_type": "execute_result"
    }
   ],
   "source": [
    "model = Sequential([\n",
    "    Dense(input_dim = 2, units=1),\n",
    "    Activation('sigmoid')\n",
    "])\n",
    "model"
   ]
  },
  {
   "cell_type": "code",
   "execution_count": 28,
   "metadata": {},
   "outputs": [],
   "source": [
    "#model.compile(loss='binary_crossentropy', optimizer=SGD(lr=0.1))\n",
    "model.compile(\n",
    "    loss=tf.keras.losses.mean_squared_error,\n",
    "    optimizer=tf.keras.optimizers.Adam()\n",
    ")"
   ]
  },
  {
   "cell_type": "code",
   "execution_count": 29,
   "metadata": {},
   "outputs": [
    {
     "name": "stdout",
     "output_type": "stream",
     "text": [
      "Model: \"sequential_1\"\n",
      "_________________________________________________________________\n",
      "Layer (type)                 Output Shape              Param #   \n",
      "=================================================================\n",
      "dense_1 (Dense)              (None, 1)                 3         \n",
      "_________________________________________________________________\n",
      "activation_1 (Activation)    (None, 1)                 0         \n",
      "=================================================================\n",
      "Total params: 3\n",
      "Trainable params: 3\n",
      "Non-trainable params: 0\n",
      "_________________________________________________________________\n"
     ]
    }
   ],
   "source": [
    "model.summary()"
   ]
  },
  {
   "cell_type": "code",
   "execution_count": 30,
   "metadata": {},
   "outputs": [],
   "source": [
    "X = np.array([[0,0], [0,1], [1,0], [1,1]])\n",
    "Y = np.array([[0], [1], [1], [1]])"
   ]
  },
  {
   "cell_type": "code",
   "execution_count": 31,
   "metadata": {},
   "outputs": [
    {
     "name": "stdout",
     "output_type": "stream",
     "text": [
      "Epoch 1/20\n",
      "4/4 [==============================] - 0s 20ms/sample - loss: 0.0915\n",
      "Epoch 2/20\n",
      "4/4 [==============================] - 0s 2ms/sample - loss: 0.0913\n",
      "Epoch 3/20\n",
      "4/4 [==============================] - 0s 3ms/sample - loss: 0.0912\n",
      "Epoch 4/20\n",
      "4/4 [==============================] - 0s 3ms/sample - loss: 0.0911\n",
      "Epoch 5/20\n",
      "4/4 [==============================] - 0s 2ms/sample - loss: 0.0910\n",
      "Epoch 6/20\n",
      "4/4 [==============================] - 0s 3ms/sample - loss: 0.0909\n",
      "Epoch 7/20\n",
      "4/4 [==============================] - 0s 3ms/sample - loss: 0.0908\n",
      "Epoch 8/20\n",
      "4/4 [==============================] - 0s 3ms/sample - loss: 0.0907\n",
      "Epoch 9/20\n",
      "4/4 [==============================] - 0s 3ms/sample - loss: 0.0906\n",
      "Epoch 10/20\n",
      "4/4 [==============================] - 0s 2ms/sample - loss: 0.0905\n",
      "Epoch 11/20\n",
      "4/4 [==============================] - 0s 3ms/sample - loss: 0.0904\n",
      "Epoch 12/20\n",
      "4/4 [==============================] - 0s 3ms/sample - loss: 0.0903\n",
      "Epoch 13/20\n",
      "4/4 [==============================] - 0s 3ms/sample - loss: 0.0902\n",
      "Epoch 14/20\n",
      "4/4 [==============================] - 0s 4ms/sample - loss: 0.0901\n",
      "Epoch 15/20\n",
      "4/4 [==============================] - 0s 3ms/sample - loss: 0.0900\n",
      "Epoch 16/20\n",
      "4/4 [==============================] - 0s 3ms/sample - loss: 0.0899\n",
      "Epoch 17/20\n",
      "4/4 [==============================] - 0s 2ms/sample - loss: 0.0898\n",
      "Epoch 18/20\n",
      "4/4 [==============================] - 0s 4ms/sample - loss: 0.0897\n",
      "Epoch 19/20\n",
      "4/4 [==============================] - 0s 3ms/sample - loss: 0.0896\n",
      "Epoch 20/20\n",
      "4/4 [==============================] - 0s 3ms/sample - loss: 0.0895\n"
     ]
    },
    {
     "data": {
      "text/plain": [
       "<tensorflow.python.keras.callbacks.History at 0x12bbe3080>"
      ]
     },
     "execution_count": 31,
     "metadata": {},
     "output_type": "execute_result"
    }
   ],
   "source": [
    "model.fit(X, Y, epochs=20, batch_size=1)"
   ]
  },
  {
   "cell_type": "code",
   "execution_count": 32,
   "metadata": {},
   "outputs": [
    {
     "data": {
      "text/plain": [
       "array([[1],\n",
       "       [1],\n",
       "       [1],\n",
       "       [1]], dtype=int32)"
      ]
     },
     "execution_count": 32,
     "metadata": {},
     "output_type": "execute_result"
    }
   ],
   "source": [
    "classes = model.predict_classes(X, batch_size=1)\n",
    "classes"
   ]
  },
  {
   "cell_type": "code",
   "execution_count": 33,
   "metadata": {},
   "outputs": [
    {
     "data": {
      "text/plain": [
       "array([[0.5238775],\n",
       "       [0.8828843],\n",
       "       [0.7409841],\n",
       "       [0.9514568]], dtype=float32)"
      ]
     },
     "execution_count": 33,
     "metadata": {},
     "output_type": "execute_result"
    }
   ],
   "source": [
    "prod = model.predict_proba(X, batch_size=1)\n",
    "prod"
   ]
  },
  {
   "cell_type": "code",
   "execution_count": null,
   "metadata": {},
   "outputs": [],
   "source": []
  }
 ],
 "metadata": {
  "kernelspec": {
   "display_name": "Python 3",
   "language": "python",
   "name": "python3"
  },
  "language_info": {
   "codemirror_mode": {
    "name": "ipython",
    "version": 3
   },
   "file_extension": ".py",
   "mimetype": "text/x-python",
   "name": "python",
   "nbconvert_exporter": "python",
   "pygments_lexer": "ipython3",
   "version": "3.6.8"
  }
 },
 "nbformat": 4,
 "nbformat_minor": 2
}
